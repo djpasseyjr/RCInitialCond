{
 "cells": [
  {
   "cell_type": "code",
   "execution_count": 6,
   "metadata": {},
   "outputs": [],
   "source": [
    "import pickle as pkl\n",
    "import numpy as np\n",
    "import pandas as pd"
   ]
  },
  {
   "cell_type": "markdown",
   "metadata": {},
   "source": [
    "## Activation Mapping: $f(W_\\text{in} u_0)$\n",
    "\n",
    "For some reason, this mapping does really well at helping the reservoir computer extrapolate the orbit of arbitrary intial conditions. Great results. Should we include $sigma$ in the above equation? Why does this appear to do better than the fixed point?"
   ]
  },
  {
   "cell_type": "code",
   "execution_count": 7,
   "metadata": {},
   "outputs": [],
   "source": [
    "DATALOC = \"../Data/activ[0-1]/\"\n",
    "\n",
    "def readdata(system, algo):\n",
    "    f = open(f\"{DATALOC}/{system}_{algo}.pkl\", \"rb\")\n",
    "    res = pkl.load(f)\n",
    "    for k in res.keys():\n",
    "        print(k, np.mean(res[k]), np.std(res[k]))"
   ]
  },
  {
   "cell_type": "code",
   "execution_count": 9,
   "metadata": {},
   "outputs": [
    {
     "name": "stdout",
     "output_type": "stream",
     "text": [
      "lorenz new :\n",
      "continue_r0 3.9732499999999926 1.9167754009012117\n",
      "rand_u0 2.210699999999994 1.7391433264685223\n",
      "cont_sys_err 20.952583592297007 1.5237823082595836\n",
      "rand_sys_err 18.08077292772415 1.4311203713689802\n",
      "lyapunov 0.8737413645510114 0.06153968804463799\n",
      "\n",
      "\n",
      "lorenz old :\n",
      "continue_r0 6.037549999999994 2.010547064234011\n",
      "rand_u0 0.016299999999999953 0.1600228421194923\n",
      "cont_sys_err 20.859726220335688 1.3816200777984224\n",
      "rand_sys_err 16.01740855887907 4.2292273450283435\n",
      "lyapunov 0.8822583112447867 0.05780611392300886\n",
      "\n",
      "\n",
      "rossler new :\n",
      "continue_r0 38.645250000000004 15.693918533543496\n",
      "rand_u0 20.77875 19.130393982809135\n",
      "cont_sys_err 82.0243874401226 2.2418685101122113\n",
      "rand_sys_err 119.87892484525985 199.73631873307647\n",
      "lyapunov 0.0714699451606568 0.023356787677977837\n",
      "\n",
      "\n",
      "rossler old :\n",
      "continue_r0 59.529500000000006 14.582384775817703\n",
      "rand_u0 0.0 0.0\n",
      "cont_sys_err 82.38485468390905 2.321926231204269\n",
      "rand_sys_err 259.51895776908094 325.1523081671484\n",
      "lyapunov 0.08154562074463786 0.021623676744971624\n",
      "\n",
      "\n",
      "thomas new :\n",
      "continue_r0 51.203000000000046 22.618640343751878\n",
      "rand_u0 31.93600000000005 25.395834382827438\n",
      "cont_sys_err 28.4286469006238 1.6211912313952879\n",
      "rand_sys_err 39.056926644302536 8.445828014823768\n",
      "lyapunov 0.04486734101227516 0.022610513325986587\n",
      "\n",
      "\n",
      "thomas old :\n",
      "continue_r0 20.902500000000046 17.345265744577112\n",
      "rand_u0 0.4395000000000141 1.4878137484241833\n",
      "cont_sys_err 28.932004490188824 2.0921228779688743\n",
      "rand_sys_err 40.21545503936311 11.111659150289821\n",
      "lyapunov 0.048316634133550584 0.024100760323301832\n",
      "\n",
      "\n"
     ]
    }
   ],
   "source": [
    "for system in [\"lorenz\", \"rossler\", \"thomas\"]:\n",
    "    for algo in [\"new\", \"old\"]:\n",
    "        print(system, algo, \":\")\n",
    "        try:\n",
    "            readdata(system, algo)\n",
    "        except:\n",
    "            print(\"No Data \\n\")\n",
    "        print(\"\\n\")"
   ]
  },
  {
   "cell_type": "markdown",
   "metadata": {},
   "source": [
    "### Error cutoff Lyapunov\n",
    "\n",
    "These results are pretty close to the true Lyapunov exponent of 0.91"
   ]
  },
  {
   "cell_type": "code",
   "execution_count": 14,
   "metadata": {},
   "outputs": [],
   "source": [
    "system = \"lorenz\"\n",
    "algo = \"old\"\n",
    "f = open(f\"{DATALOC}/{system}_{algo}.pkl\", \"rb\")\n",
    "res = pkl.load(f)"
   ]
  },
  {
   "cell_type": "code",
   "execution_count": 15,
   "metadata": {},
   "outputs": [
    {
     "name": "stdout",
     "output_type": "stream",
     "text": [
      "0.8822583112447867\n",
      "N:  186 Lambda:  0.8871468034280615\n"
     ]
    }
   ],
   "source": [
    "accdur = np.array(res[\"continue_r0\"])\n",
    "ly = np.array(res[\"lyapunov\"])\n",
    "mask = ~ np.isnan(ly)\n",
    "ly = ly[mask]\n",
    "accmask = accdur[mask] > 3.0\n",
    "print(np.mean(ly))\n",
    "print(\"N: \", np.sum(accmask), \"Lambda: \", np.mean(ly[accmask]))"
   ]
  }
 ],
 "metadata": {
  "kernelspec": {
   "display_name": "Python 3",
   "language": "python",
   "name": "python3"
  },
  "language_info": {
   "codemirror_mode": {
    "name": "ipython",
    "version": 3
   },
   "file_extension": ".py",
   "mimetype": "text/x-python",
   "name": "python",
   "nbconvert_exporter": "python",
   "pygments_lexer": "ipython3",
   "version": "3.7.4"
  }
 },
 "nbformat": 4,
 "nbformat_minor": 4
}
