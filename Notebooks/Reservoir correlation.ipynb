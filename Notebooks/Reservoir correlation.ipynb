{
 "cells": [
  {
   "cell_type": "code",
   "execution_count": 3,
   "id": "778a7e8d",
   "metadata": {},
   "outputs": [],
   "source": [
    "import sys\n",
    "import numpy as np\n",
    "import rescomp as rc\n",
    "import rescomp.optimizer as rcopt\n",
    "from ipyparallel import Client\n",
    "import types\n",
    "from matplotlib import pyplot as plt\n",
    "import pandas as pd"
   ]
  },
  {
   "cell_type": "code",
   "execution_count": 4,
   "id": "91fdd73a",
   "metadata": {},
   "outputs": [],
   "source": [
    "def copy_local_variables(dview, local, *args):\n",
    "    \"\"\"Copies variables over. locals() should be passed as the value of local (which is kind of a hack but w/e).\n",
    "    Will not try to push modules (because ipyparallel throws an error if you try)\"\"\"\n",
    "    local_vars = {name:local[name] for name in args if not isinstance(local[name], types.ModuleType)}\n",
    "    dview.push(local_vars, block=True)\n",
    "\n",
    "def import_remote(dview, **kwargs):\n",
    "    \"\"\"Allows importing lots of modules on all the remote engines.\n",
    "    Can execute arbitrary code so don't run on unsanitized input, if that happens to be relevant.\"\"\"\n",
    "    for key in kwargs:\n",
    "        if kwargs[key] is None:\n",
    "            string = \"import {}\".format(key)\n",
    "        else:\n",
    "            string = \"from {} import {}\".format(key,kwargs[key])\n",
    "    dview.execute(string, block=True)\n",
    "    "
   ]
  },
  {
   "cell_type": "code",
   "execution_count": 5,
   "id": "0c4099df",
   "metadata": {},
   "outputs": [],
   "source": [
    "def covariance(A, unbiased=True):\n",
    "    \"\"\"\n",
    "    Computes the covariance matrix of A, where A[k,:] is the kth data point.\n",
    "    unbiased=True uses the unbiased estimator, False uses the MLE\n",
    "    \"\"\"\n",
    "    m = A.shape[0]\n",
    "    if unbiased:\n",
    "        m = m - 1\n",
    "    Acentered = (A - np.mean(A,axis=0)) #/ np.sqrt(m)\n",
    "    return np.einsum('ab,ac->bc', Acentered,Acentered) / m\n",
    "    \n",
    "def compute_correlation_measure(A):\n",
    "    \"\"\"\n",
    "    Computes the sum of the squares of the correlation coefficients of the coordinates of A with each other.\n",
    "    \"\"\"\n",
    "    m,n = A.shape\n",
    "    A_cov = covariance(A)\n",
    "    A_var = np.diag(A_cov)\n",
    "    scaled = (A_cov**2 / A_var.reshape(1,-1))/A_var.reshape(-1,1)\n",
    "    scaled[np.isnan(scaled)] = 0\n",
    "    \n",
    "    def _n2(k):\n",
    "        return (k**2+k)/2\n",
    "    #Count all intersections of 0-variance values as 1, then average. Should be in [0,1], may be slightly larger due to rounding error\n",
    "    return ((np.sum(scaled)-n)/2 + _n2(np.sum(np.abs(A_var)<1e-9)))/_n2(n)\n",
    "\n",
    "def compute_correlation_vector(A):\n",
    "    m,n = A.shape\n",
    "    A_cov = covariance(A)\n",
    "    A_var = np.diag(A_cov)\n",
    "    scaled = (A_cov**2 / A_var.reshape(1,-1))/A_var.reshape(-1,1)\n",
    "    nan = np.any(np.isnan(scaled),axis=0)\n",
    "    scaled[nan,:] = 0\n",
    "    scaled[:,nan] = 0\n",
    "    scaled[nan,nan] = 1\n",
    "    return np.mean(scaled, axis=0)\n",
    "    \n",
    "def second_correlation_measure(corrvect, Wout):\n",
    "    weighted_corr = np.abs(Wout) @ corrvect\n",
    "    weights = np.sum(np.abs(Wout), axis=1)\n",
    "    corr = weighted_corr / weights\n",
    "    print(corr)\n",
    "    return np.max(corr)\n",
    "    \n",
    "####Overwriting rescomp functions####\n",
    "def update_tikhanov_factors(self, t, U):\n",
    "    \"\"\" \n",
    "    Version of the function to store the correlation measure\n",
    "    Drive the reservoir with the u and collect state information into\n",
    "        self.Rhat and self.Yhat\n",
    "        Parameters\n",
    "        t (1 dim array): array of time values\n",
    "        U (array): for each i, U[i, :] produces the state of the target system\n",
    "            at time t[i]\n",
    "    \"\"\"\n",
    "    # The i + batchsize + 1 ending adds one timestep of overlap to provide\n",
    "    # the initial condition for the next batch. Overlap is removed after\n",
    "    # the internal states are generated\n",
    "    idxs = [(i, i + self.batchsize + 1) for i in range(0, len(t), self.batchsize)]\n",
    "    #Prevent length-1 segment at the end\n",
    "    if len(t)-idxs[-1][0] <= 1:\n",
    "        idxs = idxs[:-1]\n",
    "        idxs[-1] = (idxs[-1][0], len(t))\n",
    "    # Set initial condition for reservoir nodes\n",
    "    r0 = self.initial_condition(U[0, :])\n",
    "    for start, end in idxs:\n",
    "        ti = t[start:end]\n",
    "        Ui = U[start:end, :]\n",
    "        states = self.internal_state_response(ti, Ui, r0)\n",
    "        # Get next initial condition and trim overlap\n",
    "        states, r0 = states[:-1, :], states[-1, :]\n",
    "        # Update Rhat and Yhat\n",
    "        self.Rhat += states.T @ states\n",
    "        self.Yhat += Ui[:-1, :].T @ states\n",
    "        corr = compute_correlation_vector(states)\n",
    "        self.correlation += corr\n",
    "        #print(corr)\n",
    "        self.correlation_count += 1\n",
    "    self.r0 = r0\n",
    "    \n",
    "def train(self, t, U, window=None, overlap=0):\n",
    "    \"\"\" Train the reservoir computer so that it can replicate the data in U.\n",
    "\n",
    "        Paramters\n",
    "        ---------\n",
    "        t (1-d array or list of 1-d arrays): Array of m equally spaced time values corresponding to signal U.\n",
    "        U (array or list of arrays): Input signal array (m x self.signal_dim) where the ith row corresponds to the\n",
    "            signal value at time t[i]\n",
    "        window (float): If window is not `None` the reservoir computer will subdivide the input signal\n",
    "            into blocks where each block corresponds to `window` seconds of time.\n",
    "            Defaults to None\n",
    "        overlap (float): Must be less than one and greater or equal to zero. If greater than zero, this\n",
    "            will cause subdivided input signal blocks to overlap. The `overlap` variable specifies the\n",
    "            percent that each signal window overlaps the previous signal window\n",
    "            Defaults to 0.0\n",
    "    \"\"\"\n",
    "    self.correlation = np.zeros(self.res_sz)\n",
    "    self.correlation_count = 0\n",
    "    if isinstance(U, list) and isinstance(t, list):\n",
    "        for time, signal in zip(t, U):\n",
    "            idxs = self._partition(time, window, overlap=overlap)\n",
    "            for start, end in idxs:\n",
    "                ti = time[start:end]\n",
    "                Ui = signal[start:end, :]\n",
    "                self.update_tikhanov_factors(ti, Ui)\n",
    "    else:\n",
    "        idxs = self._partition(t, window, overlap=overlap)\n",
    "        for start, end in idxs:\n",
    "            ti = t[start:end]\n",
    "            Ui = U[start:end, :]\n",
    "            self.update_tikhanov_factors(ti, Ui)\n",
    "    self.W_out = self.solve_wout()\n",
    "    self.is_trained = True\n",
    "    self.correlation = self.correlation / self.correlation_count\n",
    "    #print(self.correlation)\n",
    "\n"
   ]
  },
  {
   "cell_type": "code",
   "execution_count": 5,
   "id": "63b39a6e",
   "metadata": {},
   "outputs": [
    {
     "data": {
      "text/plain": [
       "array([0.06136905, 0.06130636, 0.06243796, 0.06565578, 0.06131127,\n",
       "       0.05845994, 0.05947356, 0.06096903, 0.06582711, 0.06198271,\n",
       "       0.06366896, 0.06535057, 0.06277786, 0.06853048, 0.0652656 ,\n",
       "       0.06361713, 0.06540178, 0.05798207, 0.0647349 , 0.05894968])"
      ]
     },
     "execution_count": 5,
     "metadata": {},
     "output_type": "execute_result"
    }
   ],
   "source": [
    "A = np.random.random((80,20))\n",
    "\n",
    "compute_correlation_vector(A)"
   ]
  },
  {
   "cell_type": "code",
   "execution_count": 16,
   "id": "7a3192d4",
   "metadata": {},
   "outputs": [],
   "source": [
    "optimizer = rcopt.ResCompOptimizer('lorenz','activ_f','random','augmented')\n",
    "parameters = {'sigma': 2.518182559401357,\n",
    "             'gamma': 5.790760655159745,\n",
    "             'ridge_alpha': 0.0014066107907287084,\n",
    "             'spect_rad': 19.64735209662313,\n",
    "             'mean_degree': 5.0,\n",
    "             'window': 0.6711954818252962,\n",
    "             'overlap': 0.9,\n",
    "             'res_sz': 100,\n",
    "             'update_tikhanov_factors':update_tikhanov_factors,\n",
    "             'train':train}\n",
    "\n",
    "data_list = optimizer.generate_orbits(1, parameters, True)[0]"
   ]
  },
  {
   "cell_type": "code",
   "execution_count": 19,
   "id": "5a23ca46",
   "metadata": {},
   "outputs": [
    {
     "data": {
      "text/plain": [
       "(3, 100)"
      ]
     },
     "execution_count": 19,
     "metadata": {},
     "output_type": "execute_result"
    }
   ],
   "source": [
    "data_list[0].W_out.shape"
   ]
  },
  {
   "cell_type": "code",
   "execution_count": 4,
   "id": "c9f926f2",
   "metadata": {},
   "outputs": [],
   "source": [
    "def main(n):\n",
    "    optimizer = rcopt.ResCompOptimizer('lorenz','activ_f','random','augmented')\n",
    "    parameters = {'sigma': 2.518182559401357,\n",
    "                 'gamma': 5.790760655159745,\n",
    "                 'ridge_alpha': 0.0014066107907287084,\n",
    "                 'spect_rad': 19.64735209662313,\n",
    "                 'mean_degree': 5.0,\n",
    "                 'window': 0.6711954818252962,\n",
    "                 'overlap': 0.9,\n",
    "                 'update_tikhanov_factors':update_tikhanov_factors,\n",
    "                 'train':train}\n",
    "    \n",
    "    data_list = optimizer.generate_orbits(n, parameters, True)\n",
    "    \n",
    "    results_list = [(rcopt.get_vptime(optimizer.system, ts, Uts, pre),\n",
    "                     second_correlation_measure(rcomp.correlation, rcomp.W_out))\n",
    "                    for rcomp, tr, Utr, ts, Uts, pre in data_list]\n",
    "           \n",
    "    return results_list\n"
   ]
  },
  {
   "cell_type": "code",
   "execution_count": 32,
   "id": "c9cdc6a3",
   "metadata": {},
   "outputs": [
    {
     "name": "stdout",
     "output_type": "stream",
     "text": [
      "Finished!\n"
     ]
    }
   ],
   "source": [
    "exit()\n",
    "client = Client()\n",
    "dview = client[:]\n",
    "import_remote(dview, **{'numpy as np':None, 'rescomp.optimizer as rcopt':None})\n",
    "\n",
    "dview.execute('import numpy as np', block=True)\n",
    "\n",
    "copy_local_variables(dview, locals(),'covariance','compute_correlation_measure', 'compute_correlation_vector',\n",
    "                    'second_correlation_measure', 'update_tikhanov_factors', 'train')\n",
    "results=dview.apply_sync(main, 25)\n",
    "print(\"Finished!\")"
   ]
  },
  {
   "cell_type": "code",
   "execution_count": 41,
   "id": "285e1b6e",
   "metadata": {},
   "outputs": [],
   "source": [
    "results_all = [item for L in results for item in L]\n",
    "corrs = [item[1] for item in results_all]\n",
    "vpts = [item[0] for item in results_all]"
   ]
  },
  {
   "cell_type": "code",
   "execution_count": 42,
   "id": "0eb915a6",
   "metadata": {},
   "outputs": [
    {
     "data": {
      "image/png": "[encoded data removed]",
      "text/plain": [
       "<Figure size 432x288 with 1 Axes>"
      ]
     },
     "metadata": {
      "needs_background": "light"
     },
     "output_type": "display_data"
    }
   ],
   "source": [
    "plt.plot(vpts,corrs,'b.')\n",
    "plt.xlabel('VPT')\n",
    "plt.ylabel(\"Reservoir node state correlation\")\n",
    "plt.show()"
   ]
  },
  {
   "cell_type": "code",
   "execution_count": 1,
   "id": "e6cbfaa7",
   "metadata": {},
   "outputs": [],
   "source": [
    "def main2(n):\n",
    "    optimizer = rcopt.ResCompOptimizer('lorenz','activ_f','continue','standard')\n",
    "    parameters = {'sigma': 0.01,\n",
    "                 'gamma': 25.0,\n",
    "                 'ridge_alpha': 1e-08,\n",
    "                 'spect_rad': 4.060882064610251,\n",
    "                 'mean_degree': 2.079117239034718,\n",
    "                 'update_tikhanov_factors':update_tikhanov_factors,\n",
    "                 'train':train}\n",
    "    \n",
    "    data_list = optimizer.generate_orbits(n, parameters, True)\n",
    "    \n",
    "    results_list = [(rcopt.get_vptime(optimizer.system, ts, Uts, pre),\n",
    "                     second_correlation_measure(rcomp.correlation, rcomp.W_out))\n",
    "                    for rcomp, tr, Utr, ts, Uts, pre in data_list]\n",
    "           \n",
    "    return results_list"
   ]
  },
  {
   "cell_type": "code",
   "execution_count": 8,
   "id": "75406add",
   "metadata": {},
   "outputs": [
    {
     "name": "stdout",
     "output_type": "stream",
     "text": [
      "Finished!\n"
     ]
    }
   ],
   "source": [
    "exit()\n",
    "client = Client()\n",
    "dview = client[:]\n",
    "import_remote(dview, **{'numpy as np':None, 'rescomp.optimizer as rcopt':None})\n",
    "\n",
    "dview.execute('import numpy as np', block=True)\n",
    "\n",
    "copy_local_variables(dview, locals(),'covariance','compute_correlation_measure', 'compute_correlation_vector',\n",
    "                    'second_correlation_measure', 'update_tikhanov_factors', 'train')\n",
    "results_continue=dview.apply_sync(main2, 15)\n",
    "print(\"Finished!\")"
   ]
  },
  {
   "cell_type": "code",
   "execution_count": 9,
   "id": "58fdeb0e",
   "metadata": {},
   "outputs": [
    {
     "data": {
      "image/png": "[encoded data removed]",
      "text/plain": [
       "<Figure size 432x288 with 1 Axes>"
      ]
     },
     "metadata": {
      "needs_background": "light"
     },
     "output_type": "display_data"
    }
   ],
   "source": [
    "results_all = [item for L in results_continue for item in L]\n",
    "corrs = [item[1] for item in results_all]\n",
    "vpts = [item[0] for item in results_all]\n",
    "plt.plot(vpts,corrs,'b.')\n",
    "plt.xlabel('VPT')\n",
    "plt.ylabel(\"Reservoir node state correlation\")\n",
    "plt.title(\"lorenz activ_f continue standard\")\n",
    "plt.show()"
   ]
  },
  {
   "cell_type": "markdown",
   "id": "762166d8",
   "metadata": {},
   "source": [
    "# lots of data time"
   ]
  },
  {
   "cell_type": "code",
   "execution_count": 33,
   "id": "83fb6051",
   "metadata": {},
   "outputs": [],
   "source": [
    "class ResComp2(rc.ResComp):\n",
    "    def __init__(self, edge_remove_p=0.0, **kwargs):\n",
    "        #Set edge removal probability\n",
    "        self.edge_remove_p = edge_remove_p\n",
    "        super().__init__(**kwargs)\n",
    "        \n",
    "        #Initialize some other things\n",
    "        self.tr_wout_r_corr = np.zeros(self.res_sz)\n",
    "        self.tr_win_u_corr = 0\n",
    "        self.res_correlation_count = 0\n",
    "    \n",
    "    def set_res_data_members(self):\n",
    "        #Find how many to remove\n",
    "        rm_count = int(self.edge_remove_p * np.sum(self.res > 0))\n",
    "        self.res = ResComp2.remove_edges(self.res, rm_count)\n",
    "        super().set_res_data_members()\n",
    "    \n",
    "    #Utility function from https://github.com/djpasseyjr/ChaosReservoir/blob/master/HyperParameterOpt/GenerateExperiments/res_experiment.py\n",
    "    def remove_edges(A,nedges):\n",
    "        \"\"\" Randomly removes 'nedges' edges from a sparse matrix 'A'\n",
    "        \"\"\"\n",
    "        A = A.todok()\n",
    "        # Remove Edges\n",
    "        keys = list(A.keys())\n",
    "        remove_idx = np.random.choice(range(len(keys)),size=nedges, replace=False)\n",
    "        remove = [keys[i] for i in remove_idx]\n",
    "        for e in remove:\n",
    "            A[e] = 0\n",
    "        return A.tolil()\n",
    "\n",
    "    ####Overwriting rescomp functions####\n",
    "    def update_tikhanov_factors(self, t, U):\n",
    "        \"\"\" \n",
    "        Version of the function to store the correlation measure\n",
    "        Drive the reservoir with the u and collect state information into\n",
    "            self.Rhat and self.Yhat\n",
    "            Parameters\n",
    "            t (1 dim array): array of time values\n",
    "            U (array): for each i, U[i, :] produces the state of the target system\n",
    "                at time t[i]\n",
    "        \"\"\"\n",
    "        # The i + batchsize + 1 ending adds one timestep of overlap to provide\n",
    "        # the initial condition for the next batch. Overlap is removed after\n",
    "        # the internal states are generated\n",
    "        idxs = [(i, i + self.batchsize + 1) for i in range(0, len(t), self.batchsize)]\n",
    "        #Prevent length-1 segment at the end\n",
    "        if len(t)-idxs[-1][0] <= 1:\n",
    "            idxs = idxs[:-1]\n",
    "            idxs[-1] = (idxs[-1][0], len(t))\n",
    "        # Set initial condition for reservoir nodes\n",
    "        r0 = self.initial_condition(U[0, :])\n",
    "        for start, end in idxs:\n",
    "            ti = t[start:end]\n",
    "            Ui = U[start:end, :]\n",
    "            states = self.internal_state_response(ti, Ui, r0)\n",
    "            # Get next initial condition and trim overlap\n",
    "            states, r0 = states[:-1, :], states[-1, :]\n",
    "            # Update Rhat and Yhat\n",
    "            self.Rhat += states.T @ states\n",
    "            self.Yhat += Ui[:-1, :].T @ states\n",
    "            #Compute correlation measures\n",
    "            res_corr = compute_correlation_vector(states)\n",
    "            self.tr_wout_r_corr += res_corr\n",
    "            input_corr = compute_correlation_vector(self.activ_f(Ui @ self.W_in.T))\n",
    "            self.tr_win_u_corr += input_corr\n",
    "            self.res_correlation_count += 1\n",
    "        self.r0 = r0\n",
    "\n",
    "    def train(self, t, U, window=None, overlap=0):\n",
    "        \"\"\" Train the reservoir computer so that it can replicate the data in U.\n",
    "\n",
    "            Paramters\n",
    "            ---------\n",
    "            t (1-d array or list of 1-d arrays): Array of m equally spaced time values corresponding to signal U.\n",
    "            U (array or list of arrays): Input signal array (m x self.signal_dim) where the ith row corresponds to the\n",
    "                signal value at time t[i]\n",
    "            window (float): If window is not `None` the reservoir computer will subdivide the input signal\n",
    "                into blocks where each block corresponds to `window` seconds of time.\n",
    "                Defaults to None\n",
    "            overlap (float): Must be less than one and greater or equal to zero. If greater than zero, this\n",
    "                will cause subdivided input signal blocks to overlap. The `overlap` variable specifies the\n",
    "                percent that each signal window overlaps the previous signal window\n",
    "                Defaults to 0.0\n",
    "        \"\"\"\n",
    "\n",
    "        if isinstance(U, list) and isinstance(t, list):\n",
    "            for time, signal in zip(t, U):\n",
    "                idxs = self._partition(time, window, overlap=overlap)\n",
    "                for start, end in idxs:\n",
    "                    ti = time[start:end]\n",
    "                    Ui = signal[start:end, :]\n",
    "                    self.update_tikhanov_factors(ti, Ui)\n",
    "        else:\n",
    "            idxs = self._partition(t, window, overlap=overlap)\n",
    "            for start, end in idxs:\n",
    "                ti = t[start:end]\n",
    "                Ui = U[start:end, :]\n",
    "                self.update_tikhanov_factors(ti, Ui)\n",
    "        self.W_out = self.solve_wout()\n",
    "        self.is_trained = True\n",
    "        self.tr_wout_r_corr = self.tr_wout_r_corr / self.res_correlation_count\n",
    "        self.tr_win_u_corr = self.tr_win_u_corr / self.res_correlation_count\n",
    "        #print(self.correlation)\n",
    "\n"
   ]
  },
  {
   "cell_type": "markdown",
   "id": "dbe1abd3",
   "metadata": {},
   "source": [
    "## Main thing"
   ]
  },
  {
   "cell_type": "code",
   "execution_count": 26,
   "id": "f82be1d6",
   "metadata": {},
   "outputs": [],
   "source": [
    "def generate_rescomps(run_ct, *exp_type, **params):\n",
    "    \"\"\"Generate run_ct reservoir computers with experiment exp_type and given parameters; returns various things\"\"\"\n",
    "    optimizer = rcopt.ResCompOptimizer(*exp_type)\n",
    "    data_list = optimizer.generate_orbits(run_ct, params, True)\n",
    "    \n",
    "    results_list = [(rcopt.get_vptime(optimizer.system, ts, Uts, pre),\n",
    "                    rcomp.tr_win_u_corr,\n",
    "                    rcomp.tr_wout_r_corr,\n",
    "                    rcomp.W_out,\n",
    "                    rcomp.W_in,\n",
    "                    rcomp.res,)\n",
    "                    for rcomp, tr, Utr, ts, Uts, pre in data_list]\n",
    "    \n",
    "    #Return as a DataFrame\n",
    "    return pd.DataFrame(results_list, columns=['vpt', 'tr_win_u_corr', 'tr_wout_r_corr', 'W_out', 'W_in', 'res'])"
   ]
  },
  {
   "cell_type": "code",
   "execution_count": 38,
   "id": "46df1e29",
   "metadata": {},
   "outputs": [
    {
     "data": {
      "text/html": [
       "<div>\n",
       "<style scoped>\n",
       "    .dataframe tbody tr th:only-of-type {\n",
       "        vertical-align: middle;\n",
       "    }\n",
       "\n",
       "    .dataframe tbody tr th {\n",
       "        vertical-align: top;\n",
       "    }\n",
       "\n",
       "    .dataframe thead th {\n",
       "        text-align: right;\n",
       "    }\n",
       "</style>\n",
       "<table border=\"1\" class=\"dataframe\">\n",
       "  <thead>\n",
       "    <tr style=\"text-align: right;\">\n",
       "      <th></th>\n",
       "      <th>vpt</th>\n",
       "      <th>tr_win_u_corr</th>\n",
       "      <th>tr_wout_r_corr</th>\n",
       "      <th>W_out</th>\n",
       "      <th>W_in</th>\n",
       "      <th>res</th>\n",
       "    </tr>\n",
       "  </thead>\n",
       "  <tbody>\n",
       "    <tr>\n",
       "      <th>0</th>\n",
       "      <td>4.17</td>\n",
       "      <td>[0.23677473866691642, 0.2362582926783008, 0.24...</td>\n",
       "      <td>[0.6762647570116037, 0.3601199786803135, 0.675...</td>\n",
       "      <td>[[0.28821372985839844, -0.6362323760986328, 0....</td>\n",
       "      <td>[[0.49112140534502746, 0.918784333150479, -0.4...</td>\n",
       "      <td>(0, 1)\\t1.8714674205568798\\n  (0, 194)\\t1.87...</td>\n",
       "    </tr>\n",
       "    <tr>\n",
       "      <th>1</th>\n",
       "      <td>0.00</td>\n",
       "      <td>[0.22251035209096515, 0.2800127302214702, 0.21...</td>\n",
       "      <td>[0.11244607329774764, 0.6651773659988587, 0.55...</td>\n",
       "      <td>[[-7.884120941162109, -1.5392522811889648, -2....</td>\n",
       "      <td>[[-0.9456771407414422, -0.9782139762215147, 0....</td>\n",
       "      <td>(0, 1)\\t1.9268984055150822\\n  (1, 0)\\t1.9268...</td>\n",
       "    </tr>\n",
       "  </tbody>\n",
       "</table>\n",
       "</div>"
      ],
      "text/plain": [
       "    vpt                                      tr_win_u_corr  \\\n",
       "0  4.17  [0.23677473866691642, 0.2362582926783008, 0.24...   \n",
       "1  0.00  [0.22251035209096515, 0.2800127302214702, 0.21...   \n",
       "\n",
       "                                      tr_wout_r_corr  \\\n",
       "0  [0.6762647570116037, 0.3601199786803135, 0.675...   \n",
       "1  [0.11244607329774764, 0.6651773659988587, 0.55...   \n",
       "\n",
       "                                               W_out  \\\n",
       "0  [[0.28821372985839844, -0.6362323760986328, 0....   \n",
       "1  [[-7.884120941162109, -1.5392522811889648, -2....   \n",
       "\n",
       "                                                W_in  \\\n",
       "0  [[0.49112140534502746, 0.918784333150479, -0.4...   \n",
       "1  [[-0.9456771407414422, -0.9782139762215147, 0....   \n",
       "\n",
       "                                                 res  \n",
       "0    (0, 1)\\t1.8714674205568798\\n  (0, 194)\\t1.87...  \n",
       "1    (0, 1)\\t1.9268984055150822\\n  (1, 0)\\t1.9268...  "
      ]
     },
     "execution_count": 38,
     "metadata": {},
     "output_type": "execute_result"
    }
   ],
   "source": [
    "#general outline\n",
    "#client = Client()\n",
    "#dview = client[:]\n",
    "\n",
    "#run_ct = 50 // len(client.ids)\n",
    "exp_type = ('lorenz','activ_f','continue','standard')\n",
    "parameters = {'sigma': 0.01,\n",
    "              'gamma': 25.0,\n",
    "              'ridge_alpha': 1e-08,\n",
    "              'spect_rad': 4.060882064610251,\n",
    "              'mean_degree': 2.079117239034718,\n",
    "              'edge_remove_p': 0.0,\n",
    "              'res_sz': 500,\n",
    "              'ResComp':ResComp2\n",
    "    }\n",
    "\n",
    "\n",
    "results_df = generate_rescomps(2, *exp_type, **parameters)\n",
    "#results = pd.concat(\n",
    "#        dview.apply_sync(generate_rescomps, run_ct, *exp_type, **params),\n",
    "#        ignore_index = True\n",
    "#    )\n",
    "results_df"
   ]
  },
  {
   "cell_type": "code",
   "execution_count": 45,
   "id": "2c6a298c",
   "metadata": {},
   "outputs": [
    {
     "data": {
      "text/plain": [
       "array([0.22160399, 0.2252101 , 0.22052599])"
      ]
     },
     "execution_count": 45,
     "metadata": {},
     "output_type": "execute_result"
    }
   ],
   "source": [
    "\n",
    "\n",
    "W_in = results_df.loc[0, 'W_in']\n",
    "win_u_corr = results_df.loc[0, 'tr_win_u_corr']\n",
    "\n",
    "proj = np.abs(W_in).T @ win_u_corr\n",
    "scaled = proj / np.sum(np.abs(W_in), axis=0)\n",
    "scaled"
   ]
  }
 ],
 "metadata": {
  "kernelspec": {
   "display_name": "Python 3",
   "language": "python",
   "name": "python3"
  },
  "language_info": {
   "codemirror_mode": {
    "name": "ipython",
    "version": 3
   },
   "file_extension": ".py",
   "mimetype": "text/x-python",
   "name": "python",
   "nbconvert_exporter": "python",
   "pygments_lexer": "ipython3",
   "version": "3.8.8"
  }
 },
 "nbformat": 4,
 "nbformat_minor": 5
}
