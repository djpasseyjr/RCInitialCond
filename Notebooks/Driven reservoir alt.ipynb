{
 "cells": [
  {
   "cell_type": "code",
   "execution_count": 1,
   "id": "a7a4d5c4",
   "metadata": {},
   "outputs": [],
   "source": [
    "import numpy as np\n",
    "from scipy import linalg as la"
   ]
  },
  {
   "cell_type": "markdown",
   "id": "20c345e6",
   "metadata": {},
   "source": [
    "We want to solve least squares for $u_i(t) \\approx D(t)^T W_\\text{out} r(t)$, for all values of $t$."
   ]
  },
  {
   "cell_type": "code",
   "execution_count": 3,
   "id": "40e5f262",
   "metadata": {},
   "outputs": [],
   "source": [
    "#Test problem\n",
    "def full_function(X, Y, A):\n",
    "    return np.einsum('tn,knm,tm->tk', X,A,Y)\n",
    "\n",
    "X = np.random.random((40,2)) * 10\n",
    "Y = np.random.random((40,3)) * 10\n",
    "A = np.array([\n",
    "    [\n",
    "        [1, 1, 0],\n",
    "        [0, 2, 1]\n",
    "    ],\n",
    "    [\n",
    "        [4, 10, -3],\n",
    "        [1, 80, 3]\n",
    "    ]\n",
    "])\n",
    "\n",
    "u=full_function(X,Y,A)"
   ]
  },
  {
   "cell_type": "code",
   "execution_count": 4,
   "id": "95e3d05b",
   "metadata": {},
   "outputs": [],
   "source": [
    "#normally is A^T Ax = A^Ty\n",
    "#we have something weird instead\n",
    "def solve_ls(r, d, u, r_alpha=0, d_alpha=0):\n",
    "    \"\"\"\n",
    "    Solves for the tensor Wout such that Wout(r(t),d(t)) \\approx u(t), using Tikhanov regularization\n",
    "    with parameters r_alpha and d_alpha (both default 0).\n",
    "    d_alpha is currently unimplemented.\n",
    "    The value of Wout(r(t),d(t)) can be computed with get_prediction(r, d, Wout).\n",
    "    \"\"\"\n",
    "    tlen = r.shape[0]\n",
    "    rlen = r.shape[1]\n",
    "    dlen = d.shape[1]\n",
    "    #this essentially takes the outer product of r and d at each timestep, and reshapes the result into a vector\n",
    "    #   of length R*D. Then, sets up least-squares/Tikhonov regression.\n",
    "    rd = np.einsum('tR,tD->tRD',r,d).reshape(tlen,-1)\n",
    "    RDhat = np.einsum('tJ,tK->JK',rd,rd)#dr^Trd^T ish\n",
    "    Uhat = np.einsum('tJ,tu->Ju', rd, u)#dr^Tu\n",
    "    \n",
    "    return la.solve(RDhat + r_alpha*np.eye(rlen*dlen), Uhat).reshape(rlen, dlen,-1).transpose([2,0,1])\n",
    "    \n",
    "def solve_ls_2p(r, d, u, r_alpha=0, d_alpha=0):\n",
    "    \"\"\"\n",
    "    Solves for the tensor Wout such that Wout(r(t),d(t)) \\approx u(t), using Tikhanov regularization\n",
    "    with parameters r_alpha and d_alpha (both default 0). r_alpha is used for coefficients corresponding\n",
    "    to d_alpha[0], and d_alpha to all others.\n",
    "    The value of Wout(r(t),d(t)) can be computed with get_prediction(r, d, Wout).\n",
    "    \"\"\"\n",
    "    tlen = r.shape[0]\n",
    "    rlen = r.shape[1]\n",
    "    dlen = d.shape[1]\n",
    "    #this essentially takes the outer product of r and d at each timestep, and reshapes the result into a vector\n",
    "    #   of length R*D. Then, sets up least-squares/Tikhonov regression.\n",
    "    rd = np.einsum('tR,tD->tRD',r,d).reshape(tlen,-1)\n",
    "    RDhat = np.einsum('tJ,tK->JK',rd,rd)\n",
    "    Uhat = np.einsum('tJ,tu->Ju', rd, u)\n",
    "    \n",
    "    #r_alpha is used for coefficients corresponding to d_alpha[0], and d_alpha to all others.\n",
    "    reg_matr = np.diag(([r_alpha]+(dlen-1)*[d_alpha]) * rlen)\n",
    "    \n",
    "    return la.solve(RDhat + reg_matr, Uhat).reshape(rlen, dlen,-1).transpose([2,0,1])\n",
    "    \n"
   ]
  },
  {
   "cell_type": "code",
   "execution_count": 5,
   "id": "3c8cc115",
   "metadata": {},
   "outputs": [
    {
     "name": "stdout",
     "output_type": "stream",
     "text": [
      "[[[ 1.00000000e+00  1.00000000e+00  2.10854714e-12]\n",
      "  [ 2.89567869e-12  2.00000000e+00  1.00000000e+00]]\n",
      "\n",
      " [[ 4.00000000e+00  1.00000000e+01 -3.00000000e+00]\n",
      "  [ 1.00000000e+00  8.00000000e+01  3.00000000e+00]]]\n",
      "(2, 2, 3)\n",
      "(2, 2, 3)\n",
      "[[[2.79820611e-12 1.82298621e-13 2.10854714e-12]\n",
      "  [2.89567869e-12 1.01185726e-12 1.57507341e-12]]\n",
      "\n",
      " [[3.51154661e-11 5.16138243e-11 1.74997794e-11]\n",
      "  [3.84823284e-11 7.64543984e-11 3.86419785e-11]]]\n",
      "[[[2.79820611e-12 1.82298621e-13 2.10854714e-12]\n",
      "  [2.89567869e-12 1.01185726e-12 1.57507341e-12]]\n",
      "\n",
      " [[3.51154661e-11 5.16138243e-11 1.74997794e-11]\n",
      "  [3.84823284e-11 7.64543984e-11 3.86419785e-11]]]\n"
     ]
    }
   ],
   "source": [
    "#Test case\n",
    "Ahat = solve_ls(X,Y,u, r_alpha=1e-8)\n",
    "print(Ahat)\n",
    "print(Ahat.shape)\n",
    "print(A.shape)\n",
    "print(np.abs(Ahat-A))\n",
    "np.allclose(Ahat, A)\n",
    "Ahat2 = solve_ls_2p(X,Y,u, r_alpha=1e-8, d_alpha=1e-4)\n",
    "print(np.abs(Ahat-A))\n"
   ]
  },
  {
   "cell_type": "code",
   "execution_count": 6,
   "id": "e0173b0e",
   "metadata": {},
   "outputs": [
    {
     "name": "stdout",
     "output_type": "stream",
     "text": [
      "(1, 10)\n"
     ]
    }
   ],
   "source": [
    "print(np.atleast_2d(np.arange(10)).shape)"
   ]
  },
  {
   "cell_type": "code",
   "execution_count": 7,
   "id": "2711617f",
   "metadata": {},
   "outputs": [],
   "source": [
    "def get_prediction(r, d, Wout):\n",
    "    return np.einsum('tR,tD,RuD->tu', r,d,Wout)\n",
    "\n",
    "def get_prediction_1d(r, d, Wout):\n",
    "    return np.einsum('R,D,RuD->u', r,d,Wout)"
   ]
  },
  {
   "cell_type": "code",
   "execution_count": 1,
   "id": "9d66c89b",
   "metadata": {},
   "outputs": [],
   "source": [
    "import numpy as np\n",
    "from scipy import linalg as la\n",
    "from scipy import integrate\n",
    "from scipy.interpolate import CubicSpline\n",
    "import rescomp as rc"
   ]
  },
  {
   "cell_type": "code",
   "execution_count": 2,
   "id": "817634a0",
   "metadata": {},
   "outputs": [],
   "source": [
    "class DrivenResComp2(rc.DrivenResComp):\n",
    "    \"\"\"\n",
    "    Version of DrivenResComp that uses a different training method, in an attempt to better handle the drive state.\n",
    "    Instead of using the drive state to affect the reservoir states, it's used along the reservoir states to predict.\n",
    "    \"\"\"\n",
    "    def __init__(self, *args, drive_alpha=None, **kwargs):\n",
    "        super().__init__(*args, **kwargs)\n",
    "        \n",
    "        #defaults to ridge_alpha\n",
    "        if drive_alpha is None:\n",
    "            self.drive_alpha = self.ridge_alpha\n",
    "        else:\n",
    "            self.drive_alpha = drive_alpha\n",
    "        \n",
    "        #Reset these to be the right size\n",
    "        rd = self.res_sz * (1+self.drive_dim)\n",
    "        self.Rhat = np.zeros((rd, rd))\n",
    "        self.Yhat = np.zeros((rd, self.signal_dim))\n",
    "    \n",
    "    def res_f(self, t, r, u, d):\n",
    "        \"\"\" ODE to drive the reservoir node states with u(t) and a input signal d(t) (unused here)\"\"\"\n",
    "        transform_train = self.sigma * self.W_in @ u(t)\n",
    "        return self.gamma * (-1 * r + self.activ_f(self.res @ r + transform_train))\n",
    "\n",
    "    def res_pred_f(self, t, r, d):\n",
    "        \"\"\" Reservoir prediction ode. Assumes precomputed W_out. Accepts an input signal d(t) \"\"\"\n",
    "        recurrence = self.sigma * self.W_in @ self._get_output_1d(r, d(t))\n",
    "        return self.gamma*(-1*r + self.activ_f(self.res @ r + recurrence))\n",
    "    \n",
    "    def _get_output(self, r, d):\n",
    "        \"\"\"Computes Wout(r,d) for each timestep\"\"\"\n",
    "        return np.einsum('tR,tD,RuD->tu', r,d, self.W_out)\n",
    "\n",
    "    def _get_output_1d(self, r, d):\n",
    "        \"\"\"Computes Wout(r,d) for one timestep\"\"\"\n",
    "        return np.einsum('R,D,RuD->u', r,d, self.W_out)\n",
    "    \n",
    "    def _augment_d(d):\n",
    "        \"\"\"Prepends values of 1 to the drive state d (as an array, not a CubicSpline), to improve train-ability\"\"\"\n",
    "        if len(d.shape) == 1:\n",
    "            return np.concatenate(((1,),d))\n",
    "        else:\n",
    "            tlen = d.shape[0]\n",
    "            return np.hstack((np.ones((tlen,1)),d))\n",
    "      \n",
    "    def predict(self, t, D, u0=None, r0=None, return_states=False):\n",
    "        \"\"\" Drive the reservoir node states with the training signal U and input signal D\n",
    "\n",
    "            Parameters\n",
    "            ----------\n",
    "            t (1 dim array): array of time values\n",
    "            D (array): for each i, D[i, :] produces the state of the input signal\n",
    "                at time t[i]\n",
    "            u0 (array): Initial condition of the learned system\n",
    "            r0 (array): Alternately supply initial condition for reservoir nodes\n",
    "\n",
    "            Returns\n",
    "            -------\n",
    "            pred (array): A (len(t) x self.res_sz) array where states[i, :] corresponds\n",
    "                to the reservoir node states at time t[i]\n",
    "            states (array): The state of the reservoir nodes for each time in t.\n",
    "                Optional. Returned if `return_states=True`.\n",
    "        \"\"\"\n",
    "        # Determine initial condition\n",
    "        if (u0 is not None):\n",
    "            r0 = self.initial_condition(u0, D[0, :])\n",
    "        elif r0 is None :\n",
    "            r0 = self.r0\n",
    "        if not self.is_trained:\n",
    "            raise Exception(\"Reservoir is untrained\")\n",
    "        #Fancy new training method\n",
    "        D = DrivenResComp2._augment_d(D)\n",
    "        d = CubicSpline(t, D)\n",
    "        states = integrate.odeint(self.res_pred_f, r0, t, tfirst=True, args=(d,))\n",
    "        pred = self._get_output(states, D)\n",
    "        # Return internal states as well as predicition or not\n",
    "        if return_states:\n",
    "            return pred, states\n",
    "        return pred\n",
    "    \n",
    "    def solve_wout(self):\n",
    "        \"\"\" Solve the Tikhonov regularized least squares problem (Ridge regression)\n",
    "            for W_out (The readout mapping)\n",
    "        \"\"\"\n",
    "        #Check that Rhat and Yhat aren't overflowed\n",
    "        if not (np.all(np.isfinite(self.Rhat)) and np.all(np.isfinite(self.Yhat))):\n",
    "            raise OverflowError('overflow occurred while computing regression')\n",
    "            \n",
    "        #Set the regularization factors depending on whether it corresponds to an actual drive coefficient\n",
    "        reg_matr = np.diag(([self.ridge_alpha]+self.drive_dim*[self.drive_alpha]) * self.res_sz)\n",
    "        try:\n",
    "            W_out = la.solve(self.Rhat + reg_matr, self.Yhat)\n",
    "        except np.linalg.LinAlgError:\n",
    "            #Try the pseudoinverse instead\n",
    "            W_out = np.linalg.pinv(self.Rhat + reg_matr, Uhat) @ self.Yhat\n",
    "        #Hacky things with reshaping to get it into the right dimensions\n",
    "        W_out = W_out.reshape(self.res_sz, 1+self.drive_dim, -1).transpose([0,2,1])\n",
    "        return W_out\n",
    "    \n",
    "    def update_tikhanov_factors(self, t, U, D):\n",
    "        \"\"\" Drive the reservoir with the u and collect state information into\n",
    "            self.Rhat and self.Yhat\n",
    "            Parameters\n",
    "            t (1 dim array): array of time values\n",
    "            U (array): for each i, U[i, :] produces the state of the training signal\n",
    "                at time t[i]\n",
    "            D (array): For each i, D[i, :] produces the state of the input signal\n",
    "                at time t[i]\n",
    "        \"\"\"\n",
    "        # The i + batchsize + 1 ending adds one timestep of overlap to provide\n",
    "        # the initial condition for the next batch. Overlap is removed after\n",
    "        # the internal states are generated\n",
    "        idxs = [(i, i + self.batchsize + 1) for i in range(0, len(t), self.batchsize)]\n",
    "        # Set initial condition for reservoir nodes\n",
    "        r0 = self.initial_condition(U[0, :], DrivenResComp2._augment_d(D[0, :]))\n",
    "        for start, end in idxs:\n",
    "            ti = t[start:end]\n",
    "            Ui = U[start:end, :]\n",
    "            Di = DrivenResComp2._augment_d(D[start:end, :])\n",
    "            states = self.internal_state_response(ti, Ui, Di, r0)\n",
    "            # Get next initial condition and trim overlap\n",
    "            states, r0 = states[:-1, :], states[-1, :]\n",
    "            # Update Rhat and Yhat\n",
    "            rd = np.einsum('tR,tD->tRD', states, Di[:-1,:]).reshape(states.shape[0],-1)\n",
    "            self.Rhat += np.einsum('tJ,tK->JK', rd, rd)\n",
    "            self.Yhat += np.einsum('tJ,tu->Ju', rd, Ui[:-1,:])\n",
    "        self.r0 = r0"
   ]
  },
  {
   "cell_type": "code",
   "execution_count": 3,
   "id": "e61f85e2",
   "metadata": {},
   "outputs": [],
   "source": [
    "from rescomp import optimizer as rcopt"
   ]
  },
  {
   "cell_type": "code",
   "execution_count": 4,
   "id": "be9337a7",
   "metadata": {
    "scrolled": true
   },
   "outputs": [],
   "source": [
    "parameters = {\n",
    "    'res_sz': 300,\n",
    "    'sigma': 0.4284152982139645,\n",
    "    'gamma': 18.59378389616037,\n",
    "    'ridge_alpha': 0.7315018565937718,\n",
    "    'drive_alpha': 0.7315018565937718,\n",
    "    'spect_rad': 1.0996948535968787,\n",
    "    'mean_degree': 1.7024863462833595,\n",
    "    #'drive_alpha': 1.2,\n",
    "    #'delta': 0.47061673207140026,\n",
    "    'ResComp': DrivenResComp2,\n",
    "             }\n",
    "\n",
    "optimizer = rcopt.ResCompOptimizer('softrobot', 'relax', 'continue', 'standard')\n",
    "data = optimizer.generate_orbits(1, parameters, True)"
   ]
  },
  {
   "cell_type": "code",
   "execution_count": 5,
   "id": "c12e861b",
   "metadata": {},
   "outputs": [
    {
     "data": {
      "text/plain": [
       "[(<__main__.DrivenResComp2 at 0x20e83e68fd0>,\n",
       "  array([ 841.6060396 ,  841.61603967,  841.62603974, ..., 1006.57722348,\n",
       "         1006.58722355, 1006.59722362]),\n",
       "  (array([[ 0.58582318,  0.85154812,  0.1411963 ,  1.18228777, -0.09192573,\n",
       "           -0.11918577],\n",
       "          [ 0.58396602,  0.85178548,  0.15446155,  1.17921776, -0.08655256,\n",
       "           -0.11738445],\n",
       "          [ 0.58205794,  0.85201737,  0.16821717,  1.17599503, -0.08114382,\n",
       "           -0.11545275],\n",
       "          ...,\n",
       "          [-0.10927473,  0.64337016, -0.29712104,  0.73921373,  0.31330922,\n",
       "            0.30519851],\n",
       "          [-0.11145081,  0.63764729, -0.29471063,  0.73603244,  0.3176538 ,\n",
       "            0.30391891],\n",
       "          [-0.11365988,  0.63186858, -0.29249502,  0.73275838,  0.32188487,\n",
       "            0.30273368]]),\n",
       "   array([[ 0.23573388,  0.11789063, -0.06297916, -0.33509106, -0.0786329 ,\n",
       "           -0.51318052],\n",
       "          [ 0.21748702,  0.10104602, -0.04479701, -0.34558089, -0.0688924 ,\n",
       "           -0.51783102],\n",
       "          [ 0.19910737,  0.08407892, -0.0264826 , -0.35614712, -0.059081  ,\n",
       "           -0.52251536],\n",
       "          ...,\n",
       "          [-0.85488952, -0.72043158,  0.1437377 , -0.60555504,  0.64213287,\n",
       "            0.27283919],\n",
       "          [-0.85621256, -0.72804241,  0.15120362, -0.60796437,  0.65267417,\n",
       "            0.27030373],\n",
       "          [-0.85748894, -0.73538443,  0.15840565, -0.61028862,  0.66284322,\n",
       "            0.2678579 ]])),\n",
       "  (array([1006.6072237 , 1006.61722377, 1006.62722384, ..., 1026.57736701,\n",
       "          1026.58736708, 1026.59736715]),\n",
       "   array([[-0.85873244, -0.74253704,  0.16542204, -0.61255298,  0.67275018,\n",
       "            0.26547496],\n",
       "          [-0.85987851, -0.74913008,  0.17188936, -0.61464012,  0.68188157,\n",
       "            0.26327859],\n",
       "          [-0.86111321, -0.75623158,  0.17885564, -0.61688827,  0.69171758,\n",
       "            0.26091277],\n",
       "          ...,\n",
       "          [-0.09136808,  0.19569605, -0.23126174,  0.09568271, -0.4039074 ,\n",
       "           -0.09008598],\n",
       "          [-0.07456766,  0.18480013, -0.24651065,  0.07786223, -0.38916339,\n",
       "           -0.09797217],\n",
       "          [-0.05760288,  0.17379738, -0.26190892,  0.05986735, -0.37427479,\n",
       "           -0.10593531]])),\n",
       "  array([[-0.11592524,  0.62600879, -0.29045401,  0.72933772,  0.32603381,\n",
       "           0.30162986],\n",
       "         [-0.1181233 ,  0.62038983, -0.28865266,  0.72597687,  0.32985941,\n",
       "           0.30065967],\n",
       "         [-0.12063381,  0.61407797, -0.28678529,  0.7221084 ,  0.33395059,\n",
       "           0.29968323],\n",
       "         ...,\n",
       "         [ 0.18301248,  0.86277732,  0.36557762,  1.27915217, -0.01672159,\n",
       "           0.14927436],\n",
       "         [ 0.18759853,  0.86144342,  0.36350872,  1.27672009, -0.01336071,\n",
       "           0.14954793],\n",
       "         [ 0.19224827,  0.86006454,  0.36126404,  1.2741734 , -0.01006682,\n",
       "           0.14979079]]),\n",
       "  array([[-0.12906223,  0.64768499, -0.30337477,  0.73545361,  0.30133316,\n",
       "           0.31170546],\n",
       "         [-0.13469648,  0.64416187, -0.30255061,  0.73304859,  0.30282553,\n",
       "           0.31148819],\n",
       "         [-0.14042613,  0.64057439, -0.3018159 ,  0.73067205,  0.3042794 ,\n",
       "           0.31124816],\n",
       "         ...,\n",
       "         [ 0.27596292,  0.89357544,  0.71750383,  1.35007077, -0.5105097 ,\n",
       "          -0.01187844],\n",
       "         [ 0.28098017,  0.89143665,  0.71234337,  1.34685986, -0.50402551,\n",
       "          -0.01187498],\n",
       "         [ 0.28605664,  0.88926189,  0.70708957,  1.343579  , -0.49740955,\n",
       "          -0.01188019]]))]"
      ]
     },
     "execution_count": 5,
     "metadata": {},
     "output_type": "execute_result"
    }
   ],
   "source": [
    "data"
   ]
  },
  {
   "cell_type": "code",
   "execution_count": 9,
   "id": "62cce469",
   "metadata": {},
   "outputs": [
    {
     "data": {
      "image/png": "[encoded data removed]",
      "text/plain": [
       "<Figure size 432x288 with 1 Axes>"
      ]
     },
     "metadata": {
      "needs_background": "light"
     },
     "output_type": "display_data"
    }
   ],
   "source": [
    "from matplotlib import pyplot as plt\n",
    "plt.plot(data[0][3][0], data[0][4],'r-')\n",
    "plt.plot(data[0][3][0], data[0][5],'b-')\n",
    "plt.show()"
   ]
  },
  {
   "cell_type": "code",
   "execution_count": 12,
   "id": "4fec99a1",
   "metadata": {},
   "outputs": [],
   "source": [
    "system = rcopt.get_system('softrobot')"
   ]
  },
  {
   "cell_type": "code",
   "execution_count": 17,
   "id": "c058f1dd",
   "metadata": {},
   "outputs": [
    {
     "name": "stdout",
     "output_type": "stream",
     "text": [
      "[0.4700033728758797, 0.49000351640250983, 0.5400038752190994, 0.8400060281187507, 0.23000165055623256, 0.3600025834793996, 0.6700048081422665, 0.3600025834793996]\n"
     ]
    }
   ],
   "source": [
    "vpts = []\n",
    "for ds in data:\n",
    "    ts, Uts, pre = ds[3], ds[4], ds[5]\n",
    "    vpt = rcopt.get_vptime(system, ts, Uts, pre)\n",
    "    vpts.append(vpt)\n",
    "print(vpts)"
   ]
  },
  {
   "cell_type": "code",
   "execution_count": 18,
   "id": "825955d8",
   "metadata": {},
   "outputs": [],
   "source": [
    "import matplotlib\n",
    "from matplotlib import pyplot as plt"
   ]
  },
  {
   "cell_type": "code",
   "execution_count": 19,
   "id": "d8bc11e9",
   "metadata": {},
   "outputs": [
    {
     "data": {
      "image/png": "[encoded data removed]",
      "text/plain": [
       "<Figure size 432x288 with 1 Axes>"
      ]
     },
     "metadata": {
      "needs_background": "light"
     },
     "output_type": "display_data"
    }
   ],
   "source": [
    "plt.boxplot(vpts, vert=False)\n",
    "plt.xlim(0,5)\n",
    "plt.show()"
   ]
  },
  {
   "cell_type": "code",
   "execution_count": 34,
   "id": "d5b6b720",
   "metadata": {},
   "outputs": [],
   "source": [
    "def true_brightness(A, axis=0):\n",
    "    R,G,B = 0.4126, 0.4152, 0.2722\n",
    "    return np.take(A, 0, axis=axis)*R + np.take(A, 1, axis=axis)*G + np.take(A, 2, axis=axis)*B\n",
    "\n",
    "def scale_brightness(A):\n",
    "    \"\"\"Scales brightness to be the minimum\"\"\"\n",
    "    br = true_brightness(A, axis=1)\n",
    "    min_br = np.min(br)\n",
    "    A = A.copy()\n",
    "    A[:,:3] *= (min_br / br).reshape(-1,1)\n",
    "    return A"
   ]
  },
  {
   "cell_type": "code",
   "execution_count": 35,
   "id": "b41021d0",
   "metadata": {},
   "outputs": [
    {
     "data": {
      "image/png": "[encoded data removed]",
      "text/plain": [
       "<Figure size 864x288 with 2 Axes>"
      ]
     },
     "metadata": {
      "needs_background": "light"
     },
     "output_type": "display_data"
    }
   ],
   "source": [
    "colors = plt.get_cmap('hsv')(np.linspace(0,1,50))\n",
    "br = true_brightness(colors,axis=1)\n",
    "\n",
    "plt.figure(figsize=(12,4))\n",
    "plt.subplot(1,2,1)\n",
    "for x,y,c in zip(np.linspace(0,1,50),br,colors):\n",
    "    plt.plot(x,y,'.',color=c)\n",
    "    \n",
    "plt.subplot(1,2,2)\n",
    "rs_colors = scale_brightness(colors)\n",
    "brc = true_brightness(rs_colors,axis=1)\n",
    "for x,y,c in zip(np.linspace(0,1,50),brc,rs_colors):\n",
    "    plt.plot(x,y,'.',color=c)\n",
    "plt.show()"
   ]
  }
 ],
 "metadata": {
  "kernelspec": {
   "display_name": "Python 3",
   "language": "python",
   "name": "python3"
  },
  "language_info": {
   "codemirror_mode": {
    "name": "ipython",
    "version": 3
   },
   "file_extension": ".py",
   "mimetype": "text/x-python",
   "name": "python",
   "nbconvert_exporter": "python",
   "pygments_lexer": "ipython3",
   "version": "3.8.8"
  }
 },
 "nbformat": 4,
 "nbformat_minor": 5
}
