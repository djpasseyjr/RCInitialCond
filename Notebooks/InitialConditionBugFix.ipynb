{
 "cells": [
  {
   "cell_type": "code",
   "execution_count": 1,
   "metadata": {},
   "outputs": [],
   "source": [
    "import rescomp as rc\n",
    "from scipy import sparse\n",
    "import scipy as sp\n",
    "import numpy as np\n",
    "import numdifftools as ndt\n",
    "from matplotlib import pyplot as plt"
   ]
  },
  {
   "cell_type": "markdown",
   "metadata": {},
   "source": [
    "# Test Jacobian"
   ]
  },
  {
   "cell_type": "code",
   "execution_count": 17,
   "metadata": {},
   "outputs": [],
   "source": [
    "rcomp = rc.ResComp(res_sz=100)"
   ]
  },
  {
   "cell_type": "code",
   "execution_count": 22,
   "metadata": {},
   "outputs": [
    {
     "data": {
      "text/plain": [
       "9.392486788328824e-14"
      ]
     },
     "execution_count": 22,
     "metadata": {},
     "output_type": "execute_result"
    }
   ],
   "source": [
    "r0 = np.random.rand(rcomp.res_sz)\n",
    "u0 = np.random.rand(rcomp.signal_dim)\n",
    "u = lambda x: u0\n",
    "f = lambda r : rcomp.res_f(0, r, u)\n",
    "J = lambda r : rcomp.jacobian(r, u0)\n",
    "Jnum = ndt.Jacobian(f)\n",
    "np.max(np.abs(J(r0) - Jnum(r0)))"
   ]
  },
  {
   "cell_type": "code",
   "execution_count": 135,
   "metadata": {},
   "outputs": [],
   "source": [
    "RES = {\n",
    "    'res_sz': 10, \n",
    "    'activ_f': np.tanh, \n",
    "    'mean_degree': 2.0, \n",
    "    'ridge_alpha': 0.0001, \n",
    "    'spect_rad': 0.9, \n",
    "    'sparse_res': True, \n",
    "    'sigma': 0.1, \n",
    "    'uniform_weights': True, \n",
    "    'gamma': 1.0, \n",
    "    'signal_dim': 3, \n",
    "    'max_weight': 10, \n",
    "    'min_weight': 0\n",
    "}"
   ]
  },
  {
   "cell_type": "code",
   "execution_count": 136,
   "metadata": {},
   "outputs": [],
   "source": [
    "rcomp = rc.ResComp(**RES)"
   ]
  },
  {
   "cell_type": "code",
   "execution_count": 137,
   "metadata": {},
   "outputs": [
    {
     "data": {
      "text/plain": [
       "2.603472992745992e-14"
      ]
     },
     "execution_count": 137,
     "metadata": {},
     "output_type": "execute_result"
    }
   ],
   "source": [
    "r0 = np.random.rand(rcomp.res_sz)\n",
    "u0 = np.random.rand(rcomp.signal_dim)\n",
    "u = lambda x: u0\n",
    "f = lambda r : rcomp.res_f(0, r, u)\n",
    "J = lambda r : rcomp.jacobian(r, u0)\n",
    "Jnum = ndt.Jacobian(f)\n",
    "np.max(np.abs(J(r0) - Jnum(r0)))"
   ]
  },
  {
   "cell_type": "code",
   "execution_count": 138,
   "metadata": {},
   "outputs": [
    {
     "data": {
      "text/plain": [
       "array([[-1.        ,  0.45342847,  0.        ,  0.        ,  0.        ,\n",
       "         0.        ,  0.        ,  0.        ,  0.        ,  0.45342847],\n",
       "       [ 0.44922687, -1.        ,  0.        ,  0.        ,  0.        ,\n",
       "         0.        ,  0.        ,  0.        ,  0.        ,  0.        ],\n",
       "       [ 0.        ,  0.        , -1.        ,  0.32597956,  0.32597956,\n",
       "         0.        ,  0.        ,  0.        ,  0.        ,  0.        ],\n",
       "       [ 0.44495609,  0.        ,  0.        , -1.        ,  0.        ,\n",
       "         0.        ,  0.        ,  0.        ,  0.        ,  0.44495609],\n",
       "       [ 0.        ,  0.        ,  0.22894581,  0.        , -1.        ,\n",
       "         0.22894581,  0.        ,  0.        ,  0.22894581,  0.        ],\n",
       "       [ 0.38796956,  0.        ,  0.38796956,  0.        ,  0.        ,\n",
       "        -1.        ,  0.38796956,  0.        ,  0.        ,  0.        ],\n",
       "       [ 0.        ,  0.        ,  0.        ,  0.45884542,  0.        ,\n",
       "         0.        , -1.        ,  0.        ,  0.        ,  0.        ],\n",
       "       [ 0.        ,  0.        ,  0.        ,  0.        ,  0.38152585,\n",
       "         0.        ,  0.        , -1.        ,  0.        ,  0.        ],\n",
       "       [ 0.        ,  0.45758761,  0.        ,  0.        ,  0.        ,\n",
       "         0.        ,  0.        ,  0.        , -1.        ,  0.        ],\n",
       "       [ 0.31323364,  0.        ,  0.31323364,  0.        ,  0.        ,\n",
       "         0.        ,  0.        ,  0.        ,  0.31323364, -1.        ]])"
      ]
     },
     "execution_count": 138,
     "metadata": {},
     "output_type": "execute_result"
    }
   ],
   "source": [
    "J(r0).toarray()"
   ]
  },
  {
   "cell_type": "code",
   "execution_count": 134,
   "metadata": {},
   "outputs": [
    {
     "data": {
      "text/plain": [
       "array([[-1.        ,  0.21786576,  0.        ,  0.21786576,  0.        ,\n",
       "         0.        ,  0.21786576,  0.        ,  0.        ,  0.        ],\n",
       "       [ 0.37396279, -1.        ,  0.        ,  0.        ,  0.        ,\n",
       "         0.37396279,  0.        ,  0.        ,  0.        ,  0.        ],\n",
       "       [ 0.        ,  0.35142067, -1.        ,  0.        ,  0.        ,\n",
       "         0.        ,  0.        ,  0.        ,  0.35142067,  0.        ],\n",
       "       [ 0.        ,  0.        ,  0.        , -1.        ,  0.        ,\n",
       "         0.        ,  0.        ,  0.        ,  0.        ,  0.        ],\n",
       "       [ 0.        ,  0.        ,  0.        ,  0.        , -1.        ,\n",
       "         0.        ,  0.        ,  0.37049562,  0.37049562,  0.        ],\n",
       "       [ 0.        ,  0.        ,  0.        ,  0.        ,  0.        ,\n",
       "        -1.        ,  0.32832343,  0.32832343,  0.32832343,  0.        ],\n",
       "       [ 0.        ,  0.3450005 ,  0.        ,  0.        ,  0.3450005 ,\n",
       "         0.        , -1.        ,  0.        ,  0.        ,  0.        ],\n",
       "       [ 0.        ,  0.        ,  0.        ,  0.        ,  0.        ,\n",
       "         0.36286794,  0.        , -1.        ,  0.        ,  0.36286794],\n",
       "       [ 0.        ,  0.        ,  0.        ,  0.31040537,  0.31040537,\n",
       "         0.31040537,  0.        ,  0.        , -1.        ,  0.31040537],\n",
       "       [ 0.        ,  0.        ,  0.        ,  0.        ,  0.        ,\n",
       "         0.        ,  0.34171873,  0.        ,  0.34171873, -1.        ]])"
      ]
     },
     "execution_count": 134,
     "metadata": {},
     "output_type": "execute_result"
    }
   ],
   "source": [
    "Jnum(r0)"
   ]
  },
  {
   "cell_type": "code",
   "execution_count": 23,
   "metadata": {},
   "outputs": [],
   "source": [
    "import networkx as nx"
   ]
  },
  {
   "cell_type": "code",
   "execution_count": 25,
   "metadata": {},
   "outputs": [],
   "source": [
    "A = nx.adj_matrix(nx.erdos_renyi_graph(10, 0.1)).T"
   ]
  },
  {
   "cell_type": "code",
   "execution_count": 26,
   "metadata": {},
   "outputs": [
    {
     "data": {
      "text/plain": [
       "<10x10 sparse matrix of type '<class 'numpy.int64'>'\n",
       "\twith 8 stored elements in Compressed Sparse Column format>"
      ]
     },
     "execution_count": 26,
     "metadata": {},
     "output_type": "execute_result"
    }
   ],
   "source": [
    "A"
   ]
  },
  {
   "cell_type": "code",
   "execution_count": 28,
   "metadata": {},
   "outputs": [
    {
     "data": {
      "text/plain": [
       "2.0"
      ]
     },
     "execution_count": 28,
     "metadata": {},
     "output_type": "execute_result"
    }
   ],
   "source": [
    "m = 1.2\n",
    "2 * np.ceil(m / 2)"
   ]
  },
  {
   "cell_type": "code",
   "execution_count": 164,
   "metadata": {},
   "outputs": [
    {
     "data": {
      "text/plain": [
       "0.8873748575136773"
      ]
     },
     "execution_count": 164,
     "metadata": {},
     "output_type": "execute_result"
    }
   ],
   "source": [
    "ly = 0\n",
    "N = 100\n",
    "Ni = 10\n",
    "for i in range(100):\n",
    "    t, U = rc.orbit(\"lorenz\", trim=True)\n",
    "    for i in range(10):\n",
    "        delta = np.random.rand(3) * 1e-5\n",
    "        ud0 = U[0,:] + delta\n",
    "        t, Ud = rc.orbit(\"lorenz\", initial=ud0, trim=False)\n",
    "        i = rc.accduration(U, Ud)\n",
    "        ly += rc.lyapunov(t[:i], U[:i, :], Ud[:i,:], delta)\n",
    "ly / (N * Ni)"
   ]
  },
  {
   "cell_type": "markdown",
   "metadata": {},
   "source": [
    "# Debug Fixed Point Solver"
   ]
  },
  {
   "cell_type": "code",
   "execution_count": 80,
   "metadata": {},
   "outputs": [],
   "source": [
    "rcomp = rc.ResComp(res_sz=1000)\n",
    "u0 = np.random.rand(rcomp.signal_dim)\n",
    "u = lambda x: u0\n",
    "fixed_res_ode = lambda r: rcomp.res_ode(0, r, u)\n",
    "J = rcomp.jacobian(0, 0, u, trained=False)\n",
    "rstar = sp.optimize.fsolve(fixed_res_ode, np.ones(rcomp.res_sz))#, fprime=J)"
   ]
  },
  {
   "cell_type": "code",
   "execution_count": 66,
   "metadata": {},
   "outputs": [
    {
     "data": {
      "text/plain": [
       "2.7755575615628914e-17"
      ]
     },
     "execution_count": 66,
     "metadata": {},
     "output_type": "execute_result"
    }
   ],
   "source": [
    "np.max(fixed_res_ode(rstar))"
   ]
  },
  {
   "cell_type": "code",
   "execution_count": 67,
   "metadata": {},
   "outputs": [],
   "source": [
    "r0 = 2*np.random.rand(rcomp.res_sz) - 1\n",
    "tvals = np.linspace(0, 1000, 100)\n",
    "U = sp.integrate.odeint(rcomp.res_ode, r0, tvals, tfirst=True, args=(u,))"
   ]
  },
  {
   "cell_type": "code",
   "execution_count": 68,
   "metadata": {},
   "outputs": [
    {
     "data": {
      "text/plain": [
       "6.823897696905945e-11"
      ]
     },
     "execution_count": 68,
     "metadata": {},
     "output_type": "execute_result"
    }
   ],
   "source": [
    "np.max(np.abs(U[-1, :] - U[-2, :]))"
   ]
  },
  {
   "cell_type": "code",
   "execution_count": 69,
   "metadata": {},
   "outputs": [],
   "source": [
    "rstar2 = U[-1, :]"
   ]
  },
  {
   "cell_type": "code",
   "execution_count": 70,
   "metadata": {},
   "outputs": [
    {
     "data": {
      "image/png": "[encoded data removed]",
      "text/plain": [
       "<Figure size 432x288 with 1 Axes>"
      ]
     },
     "metadata": {
      "needs_background": "light"
     },
     "output_type": "display_data"
    },
    {
     "data": {
      "text/plain": [
       "array([[0.09906593, 0.31373451, 0.03691796],\n",
       "       [0.43203311, 0.48465927, 0.27028397],\n",
       "       [0.50278279, 0.90493468, 0.13815278],\n",
       "       ...,\n",
       "       [0.83857409, 0.92244889, 0.97902011],\n",
       "       [0.0799119 , 0.28850441, 0.49550806],\n",
       "       [0.9435679 , 0.91907505, 0.60090792]])"
      ]
     },
     "execution_count": 70,
     "metadata": {},
     "output_type": "execute_result"
    }
   ],
   "source": [
    "rc.plot2d(tvals, U)"
   ]
  },
  {
   "cell_type": "code",
   "execution_count": 94,
   "metadata": {},
   "outputs": [
    {
     "data": {
      "text/plain": [
       "1.4070761222839678e-10"
      ]
     },
     "execution_count": 94,
     "metadata": {},
     "output_type": "execute_result"
    }
   ],
   "source": [
    "np.max(fixed_res_ode(rstar))"
   ]
  },
  {
   "cell_type": "code",
   "execution_count": 93,
   "metadata": {},
   "outputs": [
    {
     "data": {
      "text/plain": [
       "4.714235807279366e-10"
      ]
     },
     "execution_count": 93,
     "metadata": {},
     "output_type": "execute_result"
    }
   ],
   "source": [
    "np.max(np.abs(rstar3 - rstar))"
   ]
  },
  {
   "cell_type": "code",
   "execution_count": 91,
   "metadata": {},
   "outputs": [
    {
     "name": "stdout",
     "output_type": "stream",
     "text": [
      "1.3877787807814457e-17\n"
     ]
    }
   ],
   "source": [
    "r0 = 2*np.random.rand(rcomp.res_sz) - 1\n",
    "tvals = np.linspace(0, 10000, 100)\n",
    "U = sp.integrate.odeint(rcomp.res_ode, r0, tvals, tfirst=True, args=(u,))\n",
    "print(np.max(np.abs(U[-1, :] - U[-2, :])))\n",
    "rstar3 = U[-1, :]"
   ]
  },
  {
   "cell_type": "code",
   "execution_count": 78,
   "metadata": {},
   "outputs": [
    {
     "data": {
      "text/plain": [
       "3.388092445488766e-10"
      ]
     },
     "execution_count": 78,
     "metadata": {},
     "output_type": "execute_result"
    }
   ],
   "source": [
    "np.max(np.abs(rstar2 - rstar3))"
   ]
  },
  {
   "cell_type": "code",
   "execution_count": 92,
   "metadata": {},
   "outputs": [
    {
     "data": {
      "text/plain": [
       "1.1102230246251565e-16"
      ]
     },
     "execution_count": 92,
     "metadata": {},
     "output_type": "execute_result"
    }
   ],
   "source": [
    "np.max(np.abs(fixed_res_ode(rstar3)))"
   ]
  },
  {
   "cell_type": "markdown",
   "metadata": {},
   "source": [
    "# Fix Failed Prediction"
   ]
  },
  {
   "cell_type": "code",
   "execution_count": 39,
   "metadata": {},
   "outputs": [],
   "source": [
    "x = np.array([3, 4])\n",
    "y = np.array([-2, -8])\n",
    "assert rc.relerr(x, y, order=2) == 13/5\n",
    "assert rc.relerr(x, y, order='inf') == 12/4\n",
    "X = np.array([[2, 2], [2, 2]])\n",
    "Y = np.array([[1, 0.5], [1.5, 2]])\n",
    "assert np.all(rc.relerr(X, Y, order=2, axis=0) == np.array([1.25**.5 / 8**.5, 1.5 / 8**.5]))\n",
    "assert np.all(rc.relerr(X.T, Y.T, order=\"inf\", axis=1) == np.array([1/2, 1.5/2]))"
   ]
  },
  {
   "cell_type": "code",
   "execution_count": 15,
   "metadata": {},
   "outputs": [
    {
     "data": {
      "text/plain": [
       "array([0.1, 0.5])"
      ]
     },
     "execution_count": 15,
     "metadata": {},
     "output_type": "execute_result"
    }
   ],
   "source": [
    "rc.relerr(X, Y.T, order=\"inf\", axis=1)"
   ]
  },
  {
   "cell_type": "code",
   "execution_count": 16,
   "metadata": {},
   "outputs": [
    {
     "data": {
      "text/plain": [
       "array([5. , 0.5])"
      ]
     },
     "execution_count": 16,
     "metadata": {},
     "output_type": "execute_result"
    }
   ],
   "source": [
    "np.max(X.T - Y, axis=1)# / np.max(X, axis=1)"
   ]
  },
  {
   "cell_type": "code",
   "execution_count": 19,
   "metadata": {},
   "outputs": [
    {
     "data": {
      "text/plain": [
       "2.6"
      ]
     },
     "execution_count": 19,
     "metadata": {},
     "output_type": "execute_result"
    }
   ],
   "source": [
    "x = np.array([3, 4])\n",
    "y = np.array([-2, -8])\n",
    "np.sum((x - y)**2)**0.5 / np.sum(x**2)**0.5"
   ]
  },
  {
   "cell_type": "code",
   "execution_count": 30,
   "metadata": {},
   "outputs": [
    {
     "data": {
      "text/plain": [
       "array([[1. , 1.5],\n",
       "       [0.5, 0. ]])"
      ]
     },
     "execution_count": 30,
     "metadata": {},
     "output_type": "execute_result"
    }
   ],
   "source": [
    "X = np.array([[2, 2], [2, 2]])\n",
    "Y = np.array([[1, 0.5], [1.5, 2]])\n",
    "X - Y"
   ]
  },
  {
   "cell_type": "code",
   "execution_count": 36,
   "metadata": {},
   "outputs": [
    {
     "data": {
      "text/plain": [
       "0.3952847075210474"
      ]
     },
     "execution_count": 36,
     "metadata": {},
     "output_type": "execute_result"
    }
   ],
   "source": [
    "1.25**.5 / 8**.5"
   ]
  },
  {
   "cell_type": "code",
   "execution_count": 33,
   "metadata": {},
   "outputs": [
    {
     "data": {
      "text/plain": [
       "array([0.39528471, 0.53033009])"
      ]
     },
     "execution_count": 33,
     "metadata": {},
     "output_type": "execute_result"
    }
   ],
   "source": [
    "rc.relerr(X, Y, order=2, axis=0)"
   ]
  },
  {
   "cell_type": "code",
   "execution_count": 117,
   "metadata": {},
   "outputs": [],
   "source": [
    "RES = {\n",
    "    \"res_sz\": 5,\n",
    "    \"activ_f\": np.tanh,\n",
    "    \"mean_degree\": 2.0,\n",
    "    \"ridge_alpha\": .00001,\n",
    "    \"spect_rad\": 0.1,\n",
    "    \"gamma\": 5.,\n",
    "    \"sigma\": 1.5,\n",
    "    \"uniform_weights\": True,\n",
    "    \"sparse_res\": True,\n",
    "    \"signal_dim\": 2,\n",
    "    \"map_initial\" : \"activ_f\"\n",
    "}\n",
    "\n",
    "def make_data():\n",
    "    start = np.random.rand()\n",
    "    t = np.linspace(start, start + 20, 1000)\n",
    "    U =  np.vstack((np.cos(t), -1 * np.sin(t))).T\n",
    "    return t, U\n",
    "\n",
    "def make_train_test_data():\n",
    "    start = np.random.rand()\n",
    "    tr = np.linspace(start,100 + start, 10000)\n",
    "    ts = np.linspace(start + 100, start + 120, 2000)\n",
    "    signal = lambda x: np.vstack((np.cos(x), -1 * np.sin(x))).T\n",
    "    return tr, ts, signal(tr), signal(ts)"
   ]
  },
  {
   "cell_type": "code",
   "execution_count": 126,
   "metadata": {},
   "outputs": [],
   "source": [
    "rcomp = rc.ResComp(**RES)\n",
    "tr, ts, Utr, Uts = make_train_test_data()\n",
    "rcomp.train(tr, Utr, window=20, overlap=.95)\n",
    "pre = rcomp.predict(ts, Uts[0, :])\n",
    "error = np.mean(np.linalg.norm(pre - Uts, ord=2, axis=0)**2)**(1/2)\n"
   ]
  },
  {
   "cell_type": "code",
   "execution_count": 127,
   "metadata": {},
   "outputs": [
    {
     "data": {
      "image/png": "[encoded data removed]",
      "text/plain": [
       "<Figure size 432x288 with 1 Axes>"
      ]
     },
     "metadata": {
      "needs_background": "light"
     },
     "output_type": "display_data"
    },
    {
     "name": "stdout",
     "output_type": "stream",
     "text": [
      "0.13940002963882847\n"
     ]
    },
    {
     "data": {
      "image/png": "[encoded data removed]",
      "text/plain": [
       "<Figure size 432x288 with 1 Axes>"
      ]
     },
     "metadata": {
      "needs_background": "light"
     },
     "output_type": "display_data"
    }
   ],
   "source": [
    "plt.plot(ts, pre)\n",
    "plt.plot(ts, Uts, c=\"k\")\n",
    "plt.show()\n",
    "err = np.sum((pre - Uts)**2, axis=1)**.5\n",
    "plt.plot(ts, err)\n",
    "print(np.mean(err))\n",
    "plt.show()"
   ]
  },
  {
   "cell_type": "markdown",
   "metadata": {},
   "source": [
    "It seems like the reservoir computer is better able to extrapolate the initial condition when there is a little bit of transience in the beginning of the orbit. My guess is that this would work with any function that sends the training initial condition close to the attracting fixed points of the system."
   ]
  },
  {
   "cell_type": "code",
   "execution_count": null,
   "metadata": {},
   "outputs": [],
   "source": []
  }
 ],
 "metadata": {
  "kernelspec": {
   "display_name": "Python 3",
   "language": "python",
   "name": "python3"
  },
  "language_info": {
   "codemirror_mode": {
    "name": "ipython",
    "version": 3
   },
   "file_extension": ".py",
   "mimetype": "text/x-python",
   "name": "python",
   "nbconvert_exporter": "python",
   "pygments_lexer": "ipython3",
   "version": "3.7.4"
  }
 },
 "nbformat": 4,
 "nbformat_minor": 4
}
