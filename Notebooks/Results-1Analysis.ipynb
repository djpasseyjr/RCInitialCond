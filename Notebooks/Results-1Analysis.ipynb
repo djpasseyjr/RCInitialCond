{
 "cells": [
  {
   "cell_type": "code",
   "execution_count": 1,
   "id": "detected-climate",
   "metadata": {},
   "outputs": [],
   "source": [
    "from glob import glob\n",
    "import os\n",
    "import pickle as pkl\n",
    "import numpy as np\n",
    "from IPython.display import Markdown as md"
   ]
  },
  {
   "cell_type": "markdown",
   "id": "special-olive",
   "metadata": {},
   "source": [
    "# Results of optimizing then testing"
   ]
  },
  {
   "cell_type": "code",
   "execution_count": 2,
   "id": "sacred-python",
   "metadata": {},
   "outputs": [],
   "source": [
    "os.chdir(\"/Users/djpassey/Data/RCAlgorithm/results-1/\")\n",
    "results=[]\n",
    "for path in glob(\"**/*.pkl\", recursive=True):\n",
    "    with open(path,'rb') as file:\n",
    "        d=pkl.load(file)\n",
    "        d[\"filename\"]=path\n",
    "        results.append(d)"
   ]
  },
  {
   "cell_type": "code",
   "execution_count": 33,
   "id": "contrary-federal",
   "metadata": {},
   "outputs": [],
   "source": [
    "INIT_COND_ROWS = {\"random\": 0, \"activ_f\": 2, \"relax\": 4}\n",
    "\n",
    "TABLE_TEMPLATE = \"\"\"| Mapping  |     | VPT |     | Error |     |\n",
    "| --- | --- | ---:     | --- | ---:      | --- |\n",
    "|            |  **Initial Cond.**    | Standard | Augmented | Standard | Augmented | \n",
    "| **Random**  | Continued | {} | {} | {} | {} |\n",
    "|             | Arbitrary | {} | {} | {} | {} |\n",
    "| **Activ_f** | Continued | {} | {} | {} | {} |\n",
    "|             | Arbitrary | {} | {} | {} | {} |\n",
    "| **Relax**   | Continued | {} | {} | {} | {} |\n",
    "|             | Arbitrary | {} | {} | {} | {} |\n",
    "\"\"\"\n",
    "\n",
    "def experiment_attrs(fname):\n",
    "    fname = fname.split(\"/\")[1]\n",
    "    syst, pred, initcond, training = fname.split(\"-\")[:-1]\n",
    "    return syst, pred, initcond, training\n",
    "\n",
    "def experiment_table_indexes(fname):\n",
    "    \"\"\" Returns the location where the experiment results belong in the data table\n",
    "        Gives the location of the continued vpt for the given initial condition function\n",
    "    \"\"\" \n",
    "    syst, initcond, pred, training = experiment_attrs(fname)\n",
    "    row = INIT_COND_ROWS[initcond]\n",
    "    col = 0\n",
    "    if training == \"augmented\":\n",
    "        col += 1\n",
    "    return row, col\n",
    "\n",
    "def extract_vpt_err(resultdicts):\n",
    "    expdata = [\n",
    "        (\n",
    "            r[\"filename\"], \n",
    "            np.array(r[\"continue\"]),\n",
    "            np.array(r[\"random\"]),\n",
    "            np.array(r[\"cont_deriv_fit\"]), \n",
    "            np.array(r[\"rand_deriv_fit\"])\n",
    "        )\n",
    "        for r in resultdicts if \"continue\" in r.keys()\n",
    "    ]\n",
    "    return expdata\n",
    "        \n",
    "def experiment_array(resultdicts, system, pred_type_optimized=\"random\"):\n",
    "    expdata = extract_vpt_err(resultdicts)\n",
    "    E = np.zeros((6, 4))\n",
    "    E[:, :] = np.nan\n",
    "    for ed in expdata:\n",
    "        fname = ed[0]\n",
    "        syst, initcond, pred, training = experiment_attrs(fname)\n",
    "        if (syst == system) and (pred == pred_type_optimized):\n",
    "            row, col = experiment_table_indexes(fname)\n",
    "            E[row, col] = np.mean(ed[1])\n",
    "            E[row, col + 2] = np.mean(ed[3][:, 1])\n",
    "            E[row + 1, col] = np.mean(ed[2])\n",
    "            E[row + 1, col + 2] = np.mean(ed[4][:, 1])\n",
    "    return E\n",
    "    \n",
    "def make_table(results, system, pred_type_optimized=\"continue\"):\n",
    "    header = f\"## {system.title()} System (Optimized for predicition type: {pred_type_optimized})\\n\\n\"\n",
    "    E = experiment_array(results, system, pred_type_optimized)\n",
    "    table = TABLE_TEMPLATE.format(*E.ravel())\n",
    "    return md(header + table)"
   ]
  },
  {
   "cell_type": "code",
   "execution_count": 34,
   "id": "abandoned-newport",
   "metadata": {},
   "outputs": [
    {
     "data": {
      "text/markdown": [
       "## Lorenz System (Optimized for predicition type: continue)\n",
       "\n",
       "| Mapping  |     | VPT |     | Error |     |\n",
       "| --- | --- | ---:     | --- | ---:      | --- |\n",
       "|            |  **Initial Cond.**    | Standard | Augmented | Standard | Augmented | \n",
       "| **Random**  | Continued | 1.1608 | 2.589200000000001 | 39.432546002377485 | 8.484151863424877 |\n",
       "|             | Arbitrary | 0.0 | 0.0 | 947.2965306845332 | 1643.3667224280268 |\n",
       "| **Activ_f** | Continued | 1.3083999999999991 | 2.2632 | 0.5961716057853503 | 14.616909483814272 |\n",
       "|             | Arbitrary | 0.0 | 0.0 | 26137.48643403642 | 1049554.3449385941 |\n",
       "| **Relax**   | Continued | 0.9319999999999993 | 1.6719999999999997 | 28.417679362861627 | 5.342681475283076 |\n",
       "|             | Arbitrary | 0.10320000000000079 | 0.5924000000000009 | 79.0943955809891 | 15.751412732106122 |\n"
      ],
      "text/plain": [
       "<IPython.core.display.Markdown object>"
      ]
     },
     "execution_count": 34,
     "metadata": {},
     "output_type": "execute_result"
    }
   ],
   "source": [
    "make_table(results, \"lorenz\")"
   ]
  },
  {
   "cell_type": "markdown",
   "id": "stainless-wonder",
   "metadata": {},
   "source": [
    "### VPT\n",
    "Best for **Continued:** `random, augmented` \n",
    "\n",
    "Best for **Arbitrary:** `relax, augmented`\n",
    "\n",
    "### Error\n",
    "Best for **Continued:** `activ_f, standard` \n",
    "\n",
    "Best for **Arbitrary:** `relax, augmented`\n"
   ]
  },
  {
   "cell_type": "code",
   "execution_count": 21,
   "id": "danish-large",
   "metadata": {},
   "outputs": [
    {
     "data": {
      "text/markdown": [
       "## Lorenz System (Optimized for predicition type: random)\n",
       "\n",
       "|     |     | VPT |     | Error |     |\n",
       "| --- | --- | ---:     | --- | ---:      | --- |\n",
       "|            |  Initial Cond.    | Standard | Augmented | Standard | Augmented | \n",
       "| **Random**  | Continued | 0.4015999999999994 | 2.1824 | 397.8674290174672 | 29.35288298123386 |\n",
       "|             | Arbitrary | 0.0 | 0.0 | 585.8179957143802 | 188.14830446150793 |\n",
       "| **Activ_f** | Continued | 0.6423999999999992 | 0.42639999999999956 | 215.06212620121718 | 438.9757942637787 |\n",
       "|             | Arbitrary | 0.006800000000000068 | 0.48120000000000007 | 369.60839793971104 | 530.7637615986717 |\n",
       "| **Relax**   | Continued | 1.2264000000000004 | 0.9524000000000004 | 16.57146248716316 | 43.1178424138252 |\n",
       "|             | Arbitrary | 0.402000000000001 | 0.058000000000000114 | 37.11714829618819 | 76.59278489176366 |\n"
      ],
      "text/plain": [
       "<IPython.core.display.Markdown object>"
      ]
     },
     "execution_count": 21,
     "metadata": {},
     "output_type": "execute_result"
    }
   ],
   "source": [
    "make_table(results, \"lorenz\", pred_type_optimized=\"random\")"
   ]
  },
  {
   "cell_type": "markdown",
   "id": "committed-translator",
   "metadata": {},
   "source": [
    "### VPT\n",
    "Best for **Continued:** `random, augmented` \n",
    "\n",
    "Best for **Arbitrary:** `activ_f, augmented`\n",
    "\n",
    "### Error\n",
    "Best for **Continued:** `relax, standard` \n",
    "\n",
    "Best for **Arbitrary:** `relax, standard`\n"
   ]
  },
  {
   "cell_type": "code",
   "execution_count": 22,
   "id": "attempted-parent",
   "metadata": {},
   "outputs": [
    {
     "data": {
      "text/markdown": [
       "## Rossler System (Optimized for predicition type: continue)\n",
       "\n",
       "|     |     | VPT |     | Error |     |\n",
       "| --- | --- | ---:     | --- | ---:      | --- |\n",
       "|            |  Initial Cond.    | Standard | Augmented | Standard | Augmented | \n",
       "| **Random**  | Continued | 45.153600000000004 | 48.0864 | 0.2974271037795056 | 0.15941392306484617 |\n",
       "|             | Arbitrary | 0.0 | 0.0 | 134.22025229826073 | 65.92823098576692 |\n",
       "| **Activ_f** | Continued | 47.7456 | 46.51480000000001 | 0.15741670089745113 | 0.1299668706324003 |\n",
       "|             | Arbitrary | 0.0 | 52.10679999999999 | 275.4145253618851 | 1.5650546856011973 |\n",
       "| **Relax**   | Continued | 17.785600000000002 | nan | 169.79754585257314 | nan |\n",
       "|             | Arbitrary | 7.5376 | nan | 111.53703424279274 | nan |\n"
      ],
      "text/plain": [
       "<IPython.core.display.Markdown object>"
      ]
     },
     "execution_count": 22,
     "metadata": {},
     "output_type": "execute_result"
    }
   ],
   "source": [
    "make_table(results, \"rossler\")"
   ]
  },
  {
   "cell_type": "code",
   "execution_count": 23,
   "id": "other-comparative",
   "metadata": {},
   "outputs": [
    {
     "data": {
      "text/markdown": [
       "## Rossler System (Optimized for predicition type: random)\n",
       "\n",
       "|     |     | VPT |     | Error |     |\n",
       "| --- | --- | ---:     | --- | ---:      | --- |\n",
       "|            |  Initial Cond.    | Standard | Augmented | Standard | Augmented | \n",
       "| **Random**  | Continued | 14.841600000000003 | nan | 14.189292135804044 | nan |\n",
       "|             | Arbitrary | 0.32280000000000003 | nan | 64.71706739385249 | nan |\n",
       "| **Activ_f** | Continued | 13.222800000000001 | nan | 8.356861828664217 | nan |\n",
       "|             | Arbitrary | 1.5888000000000002 | nan | 33.59154730616775 | nan |\n",
       "| **Relax**   | Continued | 21.954 | nan | 4.93168374235513 | nan |\n",
       "|             | Arbitrary | 8.401200000000001 | nan | 7.888551921348621 | nan |\n"
      ],
      "text/plain": [
       "<IPython.core.display.Markdown object>"
      ]
     },
     "execution_count": 23,
     "metadata": {},
     "output_type": "execute_result"
    }
   ],
   "source": [
    "make_table(results, \"rossler\", pred_type_optimized=\"random\")"
   ]
  },
  {
   "cell_type": "code",
   "execution_count": 24,
   "id": "impaired-monaco",
   "metadata": {},
   "outputs": [
    {
     "data": {
      "text/markdown": [
       "## Thomas System (Optimized for predicition type: continue)\n",
       "\n",
       "|     |     | VPT |     | Error |     |\n",
       "| --- | --- | ---:     | --- | ---:      | --- |\n",
       "|            |  Initial Cond.    | Standard | Augmented | Standard | Augmented | \n",
       "| **Random**  | Continued | 87.73200000000004 | nan | 0.031678361481837246 | nan |\n",
       "|             | Arbitrary | 0.0 | nan | 3.125434512770212 | nan |\n",
       "| **Activ_f** | Continued | 110.49600000000004 | nan | 0.005465755653143769 | nan |\n",
       "|             | Arbitrary | 2.600800000000002 | nan | 0.5223643136376134 | nan |\n",
       "| **Relax**   | Continued | 72.12800000000006 | nan | 0.27880748383959303 | nan |\n",
       "|             | Arbitrary | 45.711600000000004 | nan | 1.3630073250189307 | nan |\n"
      ],
      "text/plain": [
       "<IPython.core.display.Markdown object>"
      ]
     },
     "execution_count": 24,
     "metadata": {},
     "output_type": "execute_result"
    }
   ],
   "source": [
    "make_table(results, \"thomas\")"
   ]
  },
  {
   "cell_type": "code",
   "execution_count": 25,
   "id": "tender-mason",
   "metadata": {},
   "outputs": [
    {
     "data": {
      "text/markdown": [
       "## Thomas System (Optimized for predicition type: random)\n",
       "\n",
       "|     |     | VPT |     | Error |     |\n",
       "| --- | --- | ---:     | --- | ---:      | --- |\n",
       "|            |  Initial Cond.    | Standard | Augmented | Standard | Augmented | \n",
       "| **Random**  | Continued | 39.28000000000005 | nan | 1.0593688373569983 | nan |\n",
       "|             | Arbitrary | 0.06 | nan | 6.786469365742945 | nan |\n",
       "| **Activ_f** | Continued | 45.30400000000005 | nan | 0.12700518915298795 | nan |\n",
       "|             | Arbitrary | 7.272800000000002 | nan | 1.7503018094669067 | nan |\n",
       "| **Relax**   | Continued | 49.19200000000004 | nan | 0.13852592431964778 | nan |\n",
       "|             | Arbitrary | 40.7124 | nan | 0.3920901438088219 | nan |\n"
      ],
      "text/plain": [
       "<IPython.core.display.Markdown object>"
      ]
     },
     "execution_count": 25,
     "metadata": {},
     "output_type": "execute_result"
    }
   ],
   "source": [
    "make_table(results, \"thomas\", pred_type_optimized=\"random\")"
   ]
  },
  {
   "cell_type": "code",
   "execution_count": 28,
   "id": "sonic-queensland",
   "metadata": {},
   "outputs": [
    {
     "data": {
      "text/markdown": [
       "## Softrobo System (Optimized for predicition type: continue)\n",
       "\n",
       "|     |     | VPT |     | Error |     |\n",
       "| --- | --- | ---:     | --- | ---:      | --- |\n",
       "|            |  Initial Cond.    | Standard | Augmented | Standard | Augmented | \n",
       "| **Random**  | Continued | nan | nan | nan | nan |\n",
       "|             | Arbitrary | nan | nan | nan | nan |\n",
       "| **Activ_f** | Continued | nan | nan | nan | nan |\n",
       "|             | Arbitrary | nan | nan | nan | nan |\n",
       "| **Relax**   | Continued | nan | nan | nan | nan |\n",
       "|             | Arbitrary | nan | nan | nan | nan |\n"
      ],
      "text/plain": [
       "<IPython.core.display.Markdown object>"
      ]
     },
     "execution_count": 28,
     "metadata": {},
     "output_type": "execute_result"
    }
   ],
   "source": [
    "make_table(results, \"softrobot\")"
   ]
  },
  {
   "cell_type": "code",
   "execution_count": 29,
   "id": "logical-helena",
   "metadata": {},
   "outputs": [
    {
     "data": {
      "text/markdown": [
       "## Softrobo System (Optimized for predicition type: random)\n",
       "\n",
       "|     |     | VPT |     | Error |     |\n",
       "| --- | --- | ---:     | --- | ---:      | --- |\n",
       "|            |  Initial Cond.    | Standard | Augmented | Standard | Augmented | \n",
       "| **Random**  | Continued | nan | nan | nan | nan |\n",
       "|             | Arbitrary | nan | nan | nan | nan |\n",
       "| **Activ_f** | Continued | nan | nan | nan | nan |\n",
       "|             | Arbitrary | nan | nan | nan | nan |\n",
       "| **Relax**   | Continued | nan | nan | nan | nan |\n",
       "|             | Arbitrary | nan | nan | nan | nan |\n"
      ],
      "text/plain": [
       "<IPython.core.display.Markdown object>"
      ]
     },
     "execution_count": 29,
     "metadata": {},
     "output_type": "execute_result"
    }
   ],
   "source": [
    "make_table(results, \"softrobot\", pred_type_optimized=\"random\")"
   ]
  }
 ],
 "metadata": {
  "kernelspec": {
   "display_name": "Python 3",
   "language": "python",
   "name": "python3"
  },
  "language_info": {
   "codemirror_mode": {
    "name": "ipython",
    "version": 3
   },
   "file_extension": ".py",
   "mimetype": "text/x-python",
   "name": "python",
   "nbconvert_exporter": "python",
   "pygments_lexer": "ipython3",
   "version": "3.7.4"
  }
 },
 "nbformat": 4,
 "nbformat_minor": 5
}
