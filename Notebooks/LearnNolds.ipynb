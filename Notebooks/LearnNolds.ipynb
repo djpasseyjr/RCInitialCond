{
 "cells": [
  {
   "cell_type": "code",
   "execution_count": 1,
   "metadata": {},
   "outputs": [],
   "source": [
    "import rescomp as rc\n",
    "import nolds\n",
    "import warnings\n",
    "import numpy as np\n",
    "from matplotlib import pyplot as plt\n",
    "#warnings.filterwarnings(\"ignore\")"
   ]
  },
  {
   "cell_type": "code",
   "execution_count": 3,
   "metadata": {},
   "outputs": [],
   "source": []
  },
  {
   "cell_type": "code",
   "execution_count": 4,
   "metadata": {},
   "outputs": [
    {
     "data": {
      "text/plain": [
       "{'continue_r0': [6.759999999999991,\n",
       "  5.72999999999999,\n",
       "  5.949999999999989,\n",
       "  13.08999999999999,\n",
       "  2.6799999999999926],\n",
       " 'rand_u0': [0.0, 0.0, 0.0, 0.0, 0.0],\n",
       " 'cont_sys_err': [(20.11524250075954, 20.935803682808423),\n",
       "  (19.773148557544477, 20.47478704334299),\n",
       "  (18.40186314839773, 19.071575006681048),\n",
       "  (21.77519730621196, 21.958349112015014),\n",
       "  (20.816110663745096, 21.553994559024606)],\n",
       " 'rand_sys_err': [(17.690674934571057, 19.849214490982767),\n",
       "  (18.543626866218045, 19.17637038810687),\n",
       "  (18.887934079835887, 17.39832689368854),\n",
       "  (17.60304391586598, 23.43140443544556),\n",
       "  (17.021560403030424, 9.000000000000005)],\n",
       " 'lyapunov': [0.8641690971475754,\n",
       "  0.8771292040303587,\n",
       "  0.8788494949907089,\n",
       "  0.8445935075385819,\n",
       "  0.856501904194807]}"
      ]
     },
     "execution_count": 4,
     "metadata": {},
     "output_type": "execute_result"
    }
   ],
   "source": [
    "results"
   ]
  },
  {
   "cell_type": "code",
   "execution_count": 30,
   "metadata": {},
   "outputs": [
    {
     "name": "stdout",
     "output_type": "stream",
     "text": [
      "0.02622622923743453\n",
      "-0.00514648767342256\n",
      "-0.007737527574811611\n",
      "0.015183503824965382\n",
      "0.011064345854565494\n",
      "0.021526887363060885\n",
      "0.02563959673831332\n"
     ]
    }
   ],
   "source": [
    "for T in [1, 2, 3, 5, 10, 20, 30]:\n",
    "    t, U = rc.orbit(\"lorenz\", duration=T, trim=True)\n",
    "    print(nolds.lyap_r(np.sum(U, axis=1)))"
   ]
  },
  {
   "cell_type": "code",
   "execution_count": 6,
   "metadata": {},
   "outputs": [
    {
     "data": {
      "text/plain": [
       "0.1140720689197086"
      ]
     },
     "execution_count": 6,
     "metadata": {},
     "output_type": "execute_result"
    }
   ],
   "source": [
    "lam = 0\n",
    "N = 50\n",
    "for i in range(N):\n",
    "    #Initial Condition on attractor\n",
    "    t, U = rc.orbit(\"thomas\", trim=True, duration=5000, dt=0.1)\n",
    "    u0 = U[0,:]\n",
    "    t, U = rc.orbit(\"thomas\", initial=u0)\n",
    "    # Perturbation\n",
    "    delta0 = np.random.randn(3) * 1e-8\n",
    "    # Perturbed Orbit\n",
    "    t, Ud = rc.orbit(\"thomas\", initial=u0+delta0)\n",
    "    lam += rc.lyapunov(t, U, Ud, delta0)\n",
    "lam /= N\n",
    "lam"
   ]
  },
  {
   "cell_type": "code",
   "execution_count": 42,
   "metadata": {},
   "outputs": [
    {
     "data": {
      "text/plain": [
       "0.9173392475215104"
      ]
     },
     "execution_count": 42,
     "metadata": {},
     "output_type": "execute_result"
    }
   ],
   "source": [
    "one = np.ones(len(t))\n",
    "A = np.vstack((one, t)).T\n",
    "x, res, rank, sigma = np.linalg.lstsq(A, np.log(delta))\n",
    "lam = x[1]\n",
    "lam"
   ]
  },
  {
   "cell_type": "code",
   "execution_count": null,
   "metadata": {},
   "outputs": [],
   "source": []
  },
  {
   "cell_type": "code",
   "execution_count": 43,
   "metadata": {},
   "outputs": [],
   "source": [
    "def lyapunov(t, x, xdelta, delta0):\n",
    "    \"\"\" Estimate the largest lyapunov exponent \"\"\"\n",
    "    delta = x - xdelta\n",
    "    deltanorm = np.sum(delta**2, axis=1)**0.5\n",
    "    delta0norm = np.sum(delta**2)**0.5\n",
    "    logdelta = np.log(deltanorm/delta0norm)\n",
    "    one = np.ones(len(t))\n",
    "    A = np.vstack((one, t)).T\n",
    "    x, res, rank, sigma = np.linalg.lstsq(A, logdelta)\n",
    "    lam = x[1]\n",
    "    return lam"
   ]
  },
  {
   "cell_type": "code",
   "execution_count": 46,
   "metadata": {},
   "outputs": [
    {
     "data": {
      "text/plain": [
       "0.9173392475215113"
      ]
     },
     "execution_count": 46,
     "metadata": {},
     "output_type": "execute_result"
    }
   ],
   "source": [
    "lyapunov(t, U, Ud, delta)"
   ]
  },
  {
   "cell_type": "code",
   "execution_count": null,
   "metadata": {},
   "outputs": [],
   "source": []
  }
 ],
 "metadata": {
  "kernelspec": {
   "display_name": "rescomp",
   "language": "python",
   "name": "rescomp"
  },
  "language_info": {
   "codemirror_mode": {
    "name": "ipython",
    "version": 3
   },
   "file_extension": ".py",
   "mimetype": "text/x-python",
   "name": "python",
   "nbconvert_exporter": "python",
   "pygments_lexer": "ipython3",
   "version": "3.9.0"
  }
 },
 "nbformat": 4,
 "nbformat_minor": 4
}
