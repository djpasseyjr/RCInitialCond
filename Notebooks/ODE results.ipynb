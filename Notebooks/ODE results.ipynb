{
 "cells": [
  {
   "cell_type": "code",
   "execution_count": 1,
   "id": "a648a5b6",
   "metadata": {},
   "outputs": [],
   "source": [
    "import pickle as pkl\n",
    "from glob import glob\n",
    "import numpy as np\n",
    "from matplotlib import pyplot as plt"
   ]
  },
  {
   "cell_type": "code",
   "execution_count": 2,
   "id": "1c24b1f3",
   "metadata": {},
   "outputs": [],
   "source": [
    "def load_data(rootpath):\n",
    "    results = []\n",
    "    for filen in glob(rootpath + \"**/*.pkl\",recursive=True):\n",
    "        #Ignore the config files\n",
    "        if filen[-10:]!='config.pkl':\n",
    "            with open(filen, 'rb') as file:\n",
    "                item = pkl.load(file)\n",
    "                item['filename'] = filen\n",
    "                item['id'] = len(results)\n",
    "                results.append(item)\n",
    "    return results"
   ]
  },
  {
   "cell_type": "code",
   "execution_count": 3,
   "id": "2863ee9b",
   "metadata": {},
   "outputs": [],
   "source": [
    "ode1 = load_data('../Data/ode_results/drag_ode1/')\n",
    "ode2 = load_data('../Data/ode_results/drag_ode2/')\n",
    "ode3 = load_data('../Data/ode_results/drag_ode3/')\n",
    "ode4 = load_data('../Data/ode_results/drag_ode4/')"
   ]
  },
  {
   "cell_type": "code",
   "execution_count": 4,
   "id": "c5f0675a",
   "metadata": {},
   "outputs": [],
   "source": [
    "for i in range(len(ode1)):\n",
    "    ode1[i]['ode']='ode1'\n",
    "for i in range(len(ode2)):\n",
    "    ode2[i]['ode']='ode2'\n",
    "for i in range(len(ode3)):\n",
    "    ode3[i]['ode']='ode3'\n",
    "for i in range(len(ode4)):\n",
    "    ode4[i]['ode']='ode4'\n",
    "all_results = ode1 + ode2 + ode3 + ode4"
   ]
  },
  {
   "cell_type": "code",
   "execution_count": 21,
   "id": "fef088bd",
   "metadata": {},
   "outputs": [],
   "source": [
    "all_results_dict = {ode:{\n",
    "                        initcond:{\n",
    "                            predtype:None\n",
    "                            for predtype in {'continue','random'}\n",
    "                            }\n",
    "                        for initcond in {'activ_f', 'relax'}\n",
    "                        }\n",
    "                    for ode in {'ode1', 'ode2', 'ode3', 'ode4'}}\n",
    "for item in all_results:\n",
    "    all_results_dict[item['ode']][item['experiment'][1]][item['experiment'][2]] = item"
   ]
  },
  {
   "cell_type": "code",
   "execution_count": 23,
   "id": "d44c0092",
   "metadata": {},
   "outputs": [
    {
     "name": "stdout",
     "output_type": "stream",
     "text": [
      "{'continue': [1.460010477444257, 1.2700091139413416, 1.7100122715271482, 1.4000100468643382, 0.34000243995274104, 0.870006243408568, 0.2700019376095497, 0.3900027987693875, 0.7300052387220717, 0.8200058845920921, 1.1600083245448332, 1.0200073198582231, 0.7100050951955836, 0.4600033011126925, 1.1300081092547316, 0.20000143526635838, 2.9200209548882867, 0.6400045928521649, 2.670019160805623, 0.08000057410652062, 0.07000050234319133, 1.6000114821306397, 0.4800034446391237, 0.1900013635029154, 1.7300124150538068, 1.0500075351483247, 1.9300138503201651, 0.780005597538775, 0.25000179408289114, 0.6900049516689251, 0.9300066739886006, 0.23000165055623256], 'random': [0.0, 0.0, 0.0, 0.0, 0.0, 0.0, 0.0, 0.0, 0.0, 0.0, 0.0, 0.0, 0.0, 0.0, 0.0, 0.0, 0.0, 0.0, 0.0, 0.0, 0.0, 0.0, 0.0, 0.0, 0.0, 0.0, 0.0, 0.0, 0.0, 0.0, 0.0, 0.0], 'lyapunov': [-0.007141415856095507, -0.011653559311139875, -0.01038034521388807, -0.011837957794545932, -0.0025076123420380942, 0.00046845484185758753, -0.007340046278293292, -0.0058472540067746655, 0.0047641687655050466, -0.00040416579017700353, -0.009502504857573358, -0.007042462246904135, -0.010118026628590107, -0.005319522109391383, -0.004999108218137024, -0.005607998706824939, 0.0009976840419780584, 0.003551370151209611, -0.003503560034753269, -0.0008745513634972043, -0.0028539436659554477, -0.008359489699136708, -0.0061750104736229, 0.0011261636374184094, -0.005100207034871389, -0.013235935376520885, -0.013727077421494158, -0.003537180996053502, -0.0052645615430242055, -0.0077210627352266815, -4.2171246861307356e-05, -0.028862976168979593], 'rand_deriv_fit': [], 'cont_deriv_fit': [], 'experiment': ('softrobot', 'activ_f', 'continue', 'augmented'), 'opt_parameters': {'alpha': 10.550323252963326, 'delta': 1.7628925205167023, 'gamma': 4.487323291286122, 'mean_degree': 3.1272230542791912, 'overlap': 0.3, 'ridge_alpha': 2.0, 'sigma': 5.0, 'spect_rad': 14.909137198703064, 'window': 100.37007989787946}, 'is_debug': False, 'timestamp': '210814172855', 'filename': '../Data/ode_results/drag_ode1\\\\softrobot_activ_f_continue_augmented\\\\softrobot-activ_f-continue-augmented-210814172855.pkl', 'id': 0, 'ode': 'ode1'}\n",
      "{'alpha': -2.1989429098546944, 'delta': 0.01, 'gamma': 21.485842718618326, 'mean_degree': 0.1, 'overlap': 0.3, 'ridge_alpha': 2.0, 'sigma': 1.4449282825741119, 'spect_rad': 6.264574293051744, 'window': 2.2628754948072936}\n"
     ]
    }
   ],
   "source": [
    "print(all_results[0])\n",
    "print(all_results_dict['ode1']['activ_f']['random']['opt_parameters'])"
   ]
  },
  {
   "cell_type": "code",
   "execution_count": 15,
   "id": "525c1e21",
   "metadata": {},
   "outputs": [],
   "source": [
    "def get_orig_results():\n",
    "    #Load the data\n",
    "    oresults = []\n",
    "    #Change this to wherever you have the data\n",
    "    PATH = \"../Data/results/all_results/\"\n",
    "    for filen in glob(PATH + \"**/*.pkl\",recursive=True):\n",
    "        #Ignore the config files\n",
    "        if filen[-10:]!='config.pkl':\n",
    "            with open(filen, 'rb') as file:\n",
    "                item = pkl.load(file)\n",
    "                item['filename'] = filen\n",
    "                item['id'] = len(oresults)\n",
    "                oresults.append(item)\n",
    "    results_split = {item:[] for item in {'lorenz', 'thomas', 'rossler', 'softrobot'}}\n",
    "    #Exclude specific experiments\n",
    "    exclude_ids = {13,15,19,21}\n",
    "    for item in oresults:\n",
    "        if item['id'] not in exclude_ids:\n",
    "            results_split[item['experiment'][0]].append(item)\n",
    "    return oresults, results_split['softrobot']\n",
    "orig_results, orig_softrobo = get_orig_results()\n",
    "orig_best_softrobot = [orig_results[id] for id in {42, 48, 49, 50}]\n",
    "for i in range(len(orig_best_softrobot)):\n",
    "    orig_best_softrobot[i]['ode'] = 'orig'"
   ]
  },
  {
   "cell_type": "code",
   "execution_count": 17,
   "id": "2fae8713",
   "metadata": {},
   "outputs": [],
   "source": [
    "both_results = all_results + orig_best_softrobot"
   ]
  },
  {
   "cell_type": "code",
   "execution_count": 6,
   "id": "3e3d8a9a",
   "metadata": {},
   "outputs": [],
   "source": [
    "def boxplots(data_list, which, sort=True, force_finite=False):\n",
    "    \"\"\"\n",
    "    Given a list of results dictionaries and an attribute, makes a boxplot of each of the dictionary's data.\n",
    "    Note: does not call plt.show()\n",
    "    \n",
    "    Parameters:\n",
    "        data_list: list of results dictionaries.\n",
    "        which (str): which item in the dictionary to plot.\n",
    "        sort (bool): default True; if True, sort the datasets in descending order by median.\n",
    "        force_finite (bool): default False; if True, remove any Inf or NaN values in the datasets before plotting.\n",
    "    \"\"\"\n",
    "    names = np.array([item['ode']+': '+' '.join(item['experiment'][1:-1]) for item in data_list])\n",
    "    data = [item[which] for item in data_list]\n",
    "    if force_finite:\n",
    "        #Remove any inf or nan values\n",
    "        data = [np.array(item) for item in data]\n",
    "        data = [item[np.isfinite(item)] for item in data]\n",
    "    firstlen = len(data[0])\n",
    "    same_len = np.all([firstlen == len(item) for item in data])\n",
    "    if same_len:\n",
    "        data_array = np.array(data)\n",
    "        if sort:\n",
    "            means = np.median(data_array,axis=1)\n",
    "            order = np.argsort(means).astype(int)\n",
    "        else:\n",
    "            order = np.arange(data_array.shape[0]).astype(int)\n",
    "        plt.boxplot(data_array[order,:].T, labels=names[order], vert=False)\n",
    "    else:\n",
    "        if sort:\n",
    "            means = [np.median(item) for item in data]\n",
    "            order = np.argsort(means).astype(int)\n",
    "            data = [data[i] for i in order]\n",
    "            names = [names[i] for i in order]\n",
    "            \n",
    "        plt.boxplot(data, labels=names, vert=False)"
   ]
  },
  {
   "cell_type": "code",
   "execution_count": 18,
   "id": "df55fd00",
   "metadata": {},
   "outputs": [
    {
     "data": {
      "image/png": "[encoded data removed]",
      "text/plain": [
       "<Figure size 432x288 with 1 Axes>"
      ]
     },
     "metadata": {
      "needs_background": "light"
     },
     "output_type": "display_data"
    }
   ],
   "source": [
    "boxplots(both_results, 'continue')\n",
    "plt.title(\"Softrobot ODEs - continued prediction\")\n",
    "plt.show()"
   ]
  },
  {
   "cell_type": "code",
   "execution_count": 19,
   "id": "9845b6e5",
   "metadata": {
    "scrolled": true
   },
   "outputs": [
    {
     "data": {
      "image/png": "[encoded data removed]",
      "text/plain": [
       "<Figure size 432x288 with 1 Axes>"
      ]
     },
     "metadata": {
      "needs_background": "light"
     },
     "output_type": "display_data"
    }
   ],
   "source": [
    "boxplots(both_results, 'random')\n",
    "plt.title(\"Softrobot ODEs - random prediction\")\n",
    "plt.show()"
   ]
  },
  {
   "cell_type": "code",
   "execution_count": 24,
   "id": "4a71f65b",
   "metadata": {},
   "outputs": [
    {
     "name": "stdout",
     "output_type": "stream",
     "text": [
      "{'alpha': -3.3937246268548287, 'delta': 0.01, 'eigscale': -2.0, 'gamma': 15.510466806299776, 'mean_degree': 4.148966229121238, 'overlap': 0.0, 'ridge_alpha': 2.0, 'sigma': 0.8307778733041067, 'spect_rad': 1.6317344415945687, 'window': 4.839239326137129}\n",
      "{'alpha': 7.370649981038427, 'delta': 1.3977305151604063, 'eigscale': 0.8995559583382746, 'gamma': 10.219099811415825, 'mean_degree': 2.262362369161984, 'overlap': 0.6, 'ridge_alpha': 2.0, 'sigma': 1.2966722270473288, 'spect_rad': 3.8188869419300944, 'window': 32.27484431926027}\n"
     ]
    }
   ],
   "source": [
    "print(all_results_dict['ode4']['activ_f']['random']['opt_parameters'])\n",
    "print(all_results_dict['ode4']['activ_f']['continue']['opt_parameters'])"
   ]
  },
  {
   "cell_type": "code",
   "execution_count": 9,
   "id": "c4c1f1cd",
   "metadata": {},
   "outputs": [
    {
     "name": "stdout",
     "output_type": "stream",
     "text": [
      "{'alpha': 10.550323252963326, 'delta': 1.7628925205167023, 'gamma': 4.487323291286122, 'mean_degree': 3.1272230542791912, 'overlap': 0.3, 'ridge_alpha': 2.0, 'sigma': 5.0, 'spect_rad': 14.909137198703064, 'window': 100.37007989787946}\n"
     ]
    }
   ],
   "source": [
    "params = ode1[0]['opt_parameters']\n",
    "print(params)"
   ]
  }
 ],
 "metadata": {
  "kernelspec": {
   "display_name": "Python 3",
   "language": "python",
   "name": "python3"
  },
  "language_info": {
   "codemirror_mode": {
    "name": "ipython",
    "version": 3
   },
   "file_extension": ".py",
   "mimetype": "text/x-python",
   "name": "python",
   "nbconvert_exporter": "python",
   "pygments_lexer": "ipython3",
   "version": "3.8.8"
  }
 },
 "nbformat": 4,
 "nbformat_minor": 5
}
